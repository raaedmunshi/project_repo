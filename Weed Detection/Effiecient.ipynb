{
  "nbformat": 4,
  "nbformat_minor": 0,
  "metadata": {
    "colab": {
      "provenance": [],
      "gpuType": "T4"
    },
    "kernelspec": {
      "name": "python3",
      "display_name": "Python 3"
    },
    "language_info": {
      "name": "python"
    },
    "accelerator": "GPU"
  },
  "cells": [
    {
      "cell_type": "markdown",
      "source": [
        "#Requirements installation"
      ],
      "metadata": {
        "id": "3yRCOozF07oa"
      }
    },
    {
      "cell_type": "code",
      "execution_count": null,
      "metadata": {
        "colab": {
          "base_uri": "https://localhost:8080/"
        },
        "id": "bCGEMdJZ0oG-",
        "outputId": "b2259223-5b85-466d-f5c9-48ae073ba0a2"
      },
      "outputs": [
        {
          "output_type": "stream",
          "name": "stdout",
          "text": [
            "Cloning into 'efficientvit'...\n",
            "remote: Enumerating objects: 411, done.\u001b[K\n",
            "remote: Counting objects: 100% (105/105), done.\u001b[K\n",
            "remote: Compressing objects: 100% (59/59), done.\u001b[K\n",
            "remote: Total 411 (delta 71), reused 46 (delta 46), pack-reused 306\u001b[K\n",
            "Receiving objects: 100% (411/411), 59.31 MiB | 36.00 MiB/s, done.\n",
            "Resolving deltas: 100% (222/222), done.\n"
          ]
        }
      ],
      "source": [
        "!git clone https://github.com/mit-han-lab/efficientvit.git\n"
      ]
    },
    {
      "cell_type": "code",
      "source": [
        "%cd efficientvit"
      ],
      "metadata": {
        "colab": {
          "base_uri": "https://localhost:8080/"
        },
        "id": "DDY79skA0vhv",
        "outputId": "d2823bc6-958f-4899-d624-68b43770da86"
      },
      "execution_count": null,
      "outputs": [
        {
          "output_type": "stream",
          "name": "stdout",
          "text": [
            "/content/efficientvit\n"
          ]
        }
      ]
    },
    {
      "cell_type": "code",
      "source": [
        "%pip install -r requirements.txt"
      ],
      "metadata": {
        "colab": {
          "base_uri": "https://localhost:8080/"
        },
        "id": "X0nARO6c0y2s",
        "outputId": "c6be4847-4bad-4e65-d8b6-1dfe9732a229"
      },
      "execution_count": null,
      "outputs": [
        {
          "output_type": "stream",
          "name": "stdout",
          "text": [
            "Collecting git+https://github.com/zhijian-liu/torchpack.git@3a5a9f7ac665444e1eb45942ee3f8fc7ffbd84e5 (from -r requirements.txt (line 10))\n",
            "  Cloning https://github.com/zhijian-liu/torchpack.git (to revision 3a5a9f7ac665444e1eb45942ee3f8fc7ffbd84e5) to /tmp/pip-req-build-e487znl_\n",
            "  Running command git clone --filter=blob:none --quiet https://github.com/zhijian-liu/torchpack.git /tmp/pip-req-build-e487znl_\n",
            "  Running command git rev-parse -q --verify 'sha^3a5a9f7ac665444e1eb45942ee3f8fc7ffbd84e5'\n",
            "  Running command git fetch -q https://github.com/zhijian-liu/torchpack.git 3a5a9f7ac665444e1eb45942ee3f8fc7ffbd84e5\n",
            "  Resolved https://github.com/zhijian-liu/torchpack.git to commit 3a5a9f7ac665444e1eb45942ee3f8fc7ffbd84e5\n",
            "  Preparing metadata (setup.py) ... \u001b[?25l\u001b[?25hdone\n",
            "Collecting git+https://github.com/alibaba/TinyNeuralNetwork.git (from -r requirements.txt (line 15))\n",
            "  Cloning https://github.com/alibaba/TinyNeuralNetwork.git to /tmp/pip-req-build-0r0fw8zz\n",
            "  Running command git clone --filter=blob:none --quiet https://github.com/alibaba/TinyNeuralNetwork.git /tmp/pip-req-build-0r0fw8zz\n",
            "  Resolved https://github.com/alibaba/TinyNeuralNetwork.git to commit 4d7ff7c10d113afe60e4ea651551387121a5dbd0\n",
            "  Installing build dependencies ... \u001b[?25l\u001b[?25hdone\n",
            "  Getting requirements to build wheel ... \u001b[?25l\u001b[?25hdone\n",
            "  Preparing metadata (pyproject.toml) ... \u001b[?25l\u001b[?25hdone\n",
            "Collecting git+https://github.com/facebookresearch/segment-anything.git (from -r requirements.txt (line 16))\n",
            "  Cloning https://github.com/facebookresearch/segment-anything.git to /tmp/pip-req-build-9p21mcq0\n",
            "  Running command git clone --filter=blob:none --quiet https://github.com/facebookresearch/segment-anything.git /tmp/pip-req-build-9p21mcq0\n",
            "  Resolved https://github.com/facebookresearch/segment-anything.git to commit 6fdee8f2727f4506cfbbe553e23b895e27956588\n",
            "  Preparing metadata (setup.py) ... \u001b[?25l\u001b[?25hdone\n",
            "Collecting torch==2.0.1 (from -r requirements.txt (line 1))\n",
            "  Downloading torch-2.0.1-cp310-cp310-manylinux1_x86_64.whl (619.9 MB)\n",
            "\u001b[2K     \u001b[90m━━━━━━━━━━━━━━━━━━━━━━━━━━━━━━━━━━━━━━━━\u001b[0m \u001b[32m619.9/619.9 MB\u001b[0m \u001b[31m2.4 MB/s\u001b[0m eta \u001b[36m0:00:00\u001b[0m\n",
            "\u001b[?25hCollecting torchvision==0.15.2 (from -r requirements.txt (line 2))\n",
            "  Downloading torchvision-0.15.2-cp310-cp310-manylinux1_x86_64.whl (6.0 MB)\n",
            "\u001b[2K     \u001b[90m━━━━━━━━━━━━━━━━━━━━━━━━━━━━━━━━━━━━━━━━\u001b[0m \u001b[32m6.0/6.0 MB\u001b[0m \u001b[31m102.0 MB/s\u001b[0m eta \u001b[36m0:00:00\u001b[0m\n",
            "\u001b[?25hCollecting einops (from -r requirements.txt (line 3))\n",
            "  Downloading einops-0.7.0-py3-none-any.whl (44 kB)\n",
            "\u001b[2K     \u001b[90m━━━━━━━━━━━━━━━━━━━━━━━━━━━━━━━━━━━━━━━━\u001b[0m \u001b[32m44.6/44.6 kB\u001b[0m \u001b[31m6.9 MB/s\u001b[0m eta \u001b[36m0:00:00\u001b[0m\n",
            "\u001b[?25hRequirement already satisfied: opencv-python in /usr/local/lib/python3.10/dist-packages (from -r requirements.txt (line 4)) (4.8.0.76)\n",
            "Collecting timm==0.6.13 (from -r requirements.txt (line 5))\n",
            "  Downloading timm-0.6.13-py3-none-any.whl (549 kB)\n",
            "\u001b[2K     \u001b[90m━━━━━━━━━━━━━━━━━━━━━━━━━━━━━━━━━━━━━━━━\u001b[0m \u001b[32m549.1/549.1 kB\u001b[0m \u001b[31m59.2 MB/s\u001b[0m eta \u001b[36m0:00:00\u001b[0m\n",
            "\u001b[?25hRequirement already satisfied: tqdm in /usr/local/lib/python3.10/dist-packages (from -r requirements.txt (line 6)) (4.66.1)\n",
            "Collecting torchprofile (from -r requirements.txt (line 7))\n",
            "  Downloading torchprofile-0.0.4-py3-none-any.whl (7.7 kB)\n",
            "Requirement already satisfied: matplotlib in /usr/local/lib/python3.10/dist-packages (from -r requirements.txt (line 9)) (3.7.1)\n",
            "Requirement already satisfied: transformers in /usr/local/lib/python3.10/dist-packages (from -r requirements.txt (line 11)) (4.35.2)\n",
            "Collecting onnx (from -r requirements.txt (line 12))\n",
            "  Downloading onnx-1.15.0-cp310-cp310-manylinux_2_17_x86_64.manylinux2014_x86_64.whl (15.7 MB)\n",
            "\u001b[2K     \u001b[90m━━━━━━━━━━━━━━━━━━━━━━━━━━━━━━━━━━━━━━━━\u001b[0m \u001b[32m15.7/15.7 MB\u001b[0m \u001b[31m96.8 MB/s\u001b[0m eta \u001b[36m0:00:00\u001b[0m\n",
            "\u001b[?25hCollecting onnxsim (from -r requirements.txt (line 13))\n",
            "  Downloading onnxsim-0.4.35-cp310-cp310-manylinux_2_17_x86_64.manylinux2014_x86_64.whl (2.2 MB)\n",
            "\u001b[2K     \u001b[90m━━━━━━━━━━━━━━━━━━━━━━━━━━━━━━━━━━━━━━━━\u001b[0m \u001b[32m2.2/2.2 MB\u001b[0m \u001b[31m93.5 MB/s\u001b[0m eta \u001b[36m0:00:00\u001b[0m\n",
            "\u001b[?25hCollecting onnxruntime (from -r requirements.txt (line 14))\n",
            "  Downloading onnxruntime-1.16.3-cp310-cp310-manylinux_2_17_x86_64.manylinux2014_x86_64.whl (6.4 MB)\n",
            "\u001b[2K     \u001b[90m━━━━━━━━━━━━━━━━━━━━━━━━━━━━━━━━━━━━━━━━\u001b[0m \u001b[32m6.4/6.4 MB\u001b[0m \u001b[31m114.2 MB/s\u001b[0m eta \u001b[36m0:00:00\u001b[0m\n",
            "\u001b[?25hRequirement already satisfied: filelock in /usr/local/lib/python3.10/dist-packages (from torch==2.0.1->-r requirements.txt (line 1)) (3.13.1)\n",
            "Requirement already satisfied: typing-extensions in /usr/local/lib/python3.10/dist-packages (from torch==2.0.1->-r requirements.txt (line 1)) (4.5.0)\n",
            "Requirement already satisfied: sympy in /usr/local/lib/python3.10/dist-packages (from torch==2.0.1->-r requirements.txt (line 1)) (1.12)\n",
            "Requirement already satisfied: networkx in /usr/local/lib/python3.10/dist-packages (from torch==2.0.1->-r requirements.txt (line 1)) (3.2.1)\n",
            "Requirement already satisfied: jinja2 in /usr/local/lib/python3.10/dist-packages (from torch==2.0.1->-r requirements.txt (line 1)) (3.1.2)\n",
            "Collecting nvidia-cuda-nvrtc-cu11==11.7.99 (from torch==2.0.1->-r requirements.txt (line 1))\n",
            "  Downloading nvidia_cuda_nvrtc_cu11-11.7.99-2-py3-none-manylinux1_x86_64.whl (21.0 MB)\n",
            "\u001b[2K     \u001b[90m━━━━━━━━━━━━━━━━━━━━━━━━━━━━━━━━━━━━━━━━\u001b[0m \u001b[32m21.0/21.0 MB\u001b[0m \u001b[31m87.1 MB/s\u001b[0m eta \u001b[36m0:00:00\u001b[0m\n",
            "\u001b[?25hCollecting nvidia-cuda-runtime-cu11==11.7.99 (from torch==2.0.1->-r requirements.txt (line 1))\n",
            "  Downloading nvidia_cuda_runtime_cu11-11.7.99-py3-none-manylinux1_x86_64.whl (849 kB)\n",
            "\u001b[2K     \u001b[90m━━━━━━━━━━━━━━━━━━━━━━━━━━━━━━━━━━━━━━━━\u001b[0m \u001b[32m849.3/849.3 kB\u001b[0m \u001b[31m71.6 MB/s\u001b[0m eta \u001b[36m0:00:00\u001b[0m\n",
            "\u001b[?25hCollecting nvidia-cuda-cupti-cu11==11.7.101 (from torch==2.0.1->-r requirements.txt (line 1))\n",
            "  Downloading nvidia_cuda_cupti_cu11-11.7.101-py3-none-manylinux1_x86_64.whl (11.8 MB)\n",
            "\u001b[2K     \u001b[90m━━━━━━━━━━━━━━━━━━━━━━━━━━━━━━━━━━━━━━━━\u001b[0m \u001b[32m11.8/11.8 MB\u001b[0m \u001b[31m120.7 MB/s\u001b[0m eta \u001b[36m0:00:00\u001b[0m\n",
            "\u001b[?25hCollecting nvidia-cudnn-cu11==8.5.0.96 (from torch==2.0.1->-r requirements.txt (line 1))\n",
            "  Downloading nvidia_cudnn_cu11-8.5.0.96-2-py3-none-manylinux1_x86_64.whl (557.1 MB)\n",
            "\u001b[2K     \u001b[90m━━━━━━━━━━━━━━━━━━━━━━━━━━━━━━━━━━━━━━━━\u001b[0m \u001b[32m557.1/557.1 MB\u001b[0m \u001b[31m2.8 MB/s\u001b[0m eta \u001b[36m0:00:00\u001b[0m\n",
            "\u001b[?25hCollecting nvidia-cublas-cu11==11.10.3.66 (from torch==2.0.1->-r requirements.txt (line 1))\n",
            "  Downloading nvidia_cublas_cu11-11.10.3.66-py3-none-manylinux1_x86_64.whl (317.1 MB)\n",
            "\u001b[2K     \u001b[90m━━━━━━━━━━━━━━━━━━━━━━━━━━━━━━━━━━━━━━━━\u001b[0m \u001b[32m317.1/317.1 MB\u001b[0m \u001b[31m4.4 MB/s\u001b[0m eta \u001b[36m0:00:00\u001b[0m\n",
            "\u001b[?25hCollecting nvidia-cufft-cu11==10.9.0.58 (from torch==2.0.1->-r requirements.txt (line 1))\n",
            "  Downloading nvidia_cufft_cu11-10.9.0.58-py3-none-manylinux1_x86_64.whl (168.4 MB)\n",
            "\u001b[2K     \u001b[90m━━━━━━━━━━━━━━━━━━━━━━━━━━━━━━━━━━━━━━━━\u001b[0m \u001b[32m168.4/168.4 MB\u001b[0m \u001b[31m6.3 MB/s\u001b[0m eta \u001b[36m0:00:00\u001b[0m\n",
            "\u001b[?25hCollecting nvidia-curand-cu11==10.2.10.91 (from torch==2.0.1->-r requirements.txt (line 1))\n",
            "  Downloading nvidia_curand_cu11-10.2.10.91-py3-none-manylinux1_x86_64.whl (54.6 MB)\n",
            "\u001b[2K     \u001b[90m━━━━━━━━━━━━━━━━━━━━━━━━━━━━━━━━━━━━━━━━\u001b[0m \u001b[32m54.6/54.6 MB\u001b[0m \u001b[31m14.3 MB/s\u001b[0m eta \u001b[36m0:00:00\u001b[0m\n",
            "\u001b[?25hCollecting nvidia-cusolver-cu11==11.4.0.1 (from torch==2.0.1->-r requirements.txt (line 1))\n",
            "  Downloading nvidia_cusolver_cu11-11.4.0.1-2-py3-none-manylinux1_x86_64.whl (102.6 MB)\n",
            "\u001b[2K     \u001b[90m━━━━━━━━━━━━━━━━━━━━━━━━━━━━━━━━━━━━━━━━\u001b[0m \u001b[32m102.6/102.6 MB\u001b[0m \u001b[31m9.0 MB/s\u001b[0m eta \u001b[36m0:00:00\u001b[0m\n",
            "\u001b[?25hCollecting nvidia-cusparse-cu11==11.7.4.91 (from torch==2.0.1->-r requirements.txt (line 1))\n",
            "  Downloading nvidia_cusparse_cu11-11.7.4.91-py3-none-manylinux1_x86_64.whl (173.2 MB)\n",
            "\u001b[2K     \u001b[90m━━━━━━━━━━━━━━━━━━━━━━━━━━━━━━━━━━━━━━━━\u001b[0m \u001b[32m173.2/173.2 MB\u001b[0m \u001b[31m6.9 MB/s\u001b[0m eta \u001b[36m0:00:00\u001b[0m\n",
            "\u001b[?25hCollecting nvidia-nccl-cu11==2.14.3 (from torch==2.0.1->-r requirements.txt (line 1))\n",
            "  Downloading nvidia_nccl_cu11-2.14.3-py3-none-manylinux1_x86_64.whl (177.1 MB)\n",
            "\u001b[2K     \u001b[90m━━━━━━━━━━━━━━━━━━━━━━━━━━━━━━━━━━━━━━━━\u001b[0m \u001b[32m177.1/177.1 MB\u001b[0m \u001b[31m6.6 MB/s\u001b[0m eta \u001b[36m0:00:00\u001b[0m\n",
            "\u001b[?25hCollecting nvidia-nvtx-cu11==11.7.91 (from torch==2.0.1->-r requirements.txt (line 1))\n",
            "  Downloading nvidia_nvtx_cu11-11.7.91-py3-none-manylinux1_x86_64.whl (98 kB)\n",
            "\u001b[2K     \u001b[90m━━━━━━━━━━━━━━━━━━━━━━━━━━━━━━━━━━━━━━━━\u001b[0m \u001b[32m98.6/98.6 kB\u001b[0m \u001b[31m15.3 MB/s\u001b[0m eta \u001b[36m0:00:00\u001b[0m\n",
            "\u001b[?25hCollecting triton==2.0.0 (from torch==2.0.1->-r requirements.txt (line 1))\n",
            "  Downloading triton-2.0.0-1-cp310-cp310-manylinux2014_x86_64.manylinux_2_17_x86_64.whl (63.3 MB)\n",
            "\u001b[2K     \u001b[90m━━━━━━━━━━━━━━━━━━━━━━━━━━━━━━━━━━━━━━━━\u001b[0m \u001b[32m63.3/63.3 MB\u001b[0m \u001b[31m11.1 MB/s\u001b[0m eta \u001b[36m0:00:00\u001b[0m\n",
            "\u001b[?25hRequirement already satisfied: numpy in /usr/local/lib/python3.10/dist-packages (from torchvision==0.15.2->-r requirements.txt (line 2)) (1.23.5)\n",
            "Requirement already satisfied: requests in /usr/local/lib/python3.10/dist-packages (from torchvision==0.15.2->-r requirements.txt (line 2)) (2.31.0)\n",
            "Requirement already satisfied: pillow!=8.3.*,>=5.3.0 in /usr/local/lib/python3.10/dist-packages (from torchvision==0.15.2->-r requirements.txt (line 2)) (9.4.0)\n",
            "Requirement already satisfied: pyyaml in /usr/local/lib/python3.10/dist-packages (from timm==0.6.13->-r requirements.txt (line 5)) (6.0.1)\n",
            "Requirement already satisfied: huggingface-hub in /usr/local/lib/python3.10/dist-packages (from timm==0.6.13->-r requirements.txt (line 5)) (0.19.4)\n",
            "Requirement already satisfied: setuptools in /usr/local/lib/python3.10/dist-packages (from nvidia-cublas-cu11==11.10.3.66->torch==2.0.1->-r requirements.txt (line 1)) (67.7.2)\n",
            "Requirement already satisfied: wheel in /usr/local/lib/python3.10/dist-packages (from nvidia-cublas-cu11==11.10.3.66->torch==2.0.1->-r requirements.txt (line 1)) (0.41.3)\n",
            "Requirement already satisfied: cmake in /usr/local/lib/python3.10/dist-packages (from triton==2.0.0->torch==2.0.1->-r requirements.txt (line 1)) (3.27.7)\n",
            "Collecting lit (from triton==2.0.0->torch==2.0.1->-r requirements.txt (line 1))\n",
            "  Downloading lit-17.0.5.tar.gz (153 kB)\n",
            "\u001b[2K     \u001b[90m━━━━━━━━━━━━━━━━━━━━━━━━━━━━━━━━━━━━━━━━\u001b[0m \u001b[32m153.0/153.0 kB\u001b[0m \u001b[31m22.1 MB/s\u001b[0m eta \u001b[36m0:00:00\u001b[0m\n",
            "\u001b[?25h  Installing build dependencies ... \u001b[?25l\u001b[?25hdone\n",
            "  Getting requirements to build wheel ... \u001b[?25l\u001b[?25hdone\n",
            "  Installing backend dependencies ... \u001b[?25l\u001b[?25hdone\n",
            "  Preparing metadata (pyproject.toml) ... \u001b[?25l\u001b[?25hdone\n",
            "Requirement already satisfied: contourpy>=1.0.1 in /usr/local/lib/python3.10/dist-packages (from matplotlib->-r requirements.txt (line 9)) (1.2.0)\n",
            "Requirement already satisfied: cycler>=0.10 in /usr/local/lib/python3.10/dist-packages (from matplotlib->-r requirements.txt (line 9)) (0.12.1)\n",
            "Requirement already satisfied: fonttools>=4.22.0 in /usr/local/lib/python3.10/dist-packages (from matplotlib->-r requirements.txt (line 9)) (4.44.3)\n",
            "Requirement already satisfied: kiwisolver>=1.0.1 in /usr/local/lib/python3.10/dist-packages (from matplotlib->-r requirements.txt (line 9)) (1.4.5)\n",
            "Requirement already satisfied: packaging>=20.0 in /usr/local/lib/python3.10/dist-packages (from matplotlib->-r requirements.txt (line 9)) (23.2)\n",
            "Requirement already satisfied: pyparsing>=2.3.1 in /usr/local/lib/python3.10/dist-packages (from matplotlib->-r requirements.txt (line 9)) (3.1.1)\n",
            "Requirement already satisfied: python-dateutil>=2.7 in /usr/local/lib/python3.10/dist-packages (from matplotlib->-r requirements.txt (line 9)) (2.8.2)\n",
            "Collecting loguru (from torchpack==0.3.1->-r requirements.txt (line 10))\n",
            "  Downloading loguru-0.7.2-py3-none-any.whl (62 kB)\n",
            "\u001b[2K     \u001b[90m━━━━━━━━━━━━━━━━━━━━━━━━━━━━━━━━━━━━━━━━\u001b[0m \u001b[32m62.5/62.5 kB\u001b[0m \u001b[31m9.2 MB/s\u001b[0m eta \u001b[36m0:00:00\u001b[0m\n",
            "\u001b[?25hCollecting multimethod (from torchpack==0.3.1->-r requirements.txt (line 10))\n",
            "  Downloading multimethod-1.10-py3-none-any.whl (9.9 kB)\n",
            "Requirement already satisfied: regex!=2019.12.17 in /usr/local/lib/python3.10/dist-packages (from transformers->-r requirements.txt (line 11)) (2023.6.3)\n",
            "Requirement already satisfied: tokenizers<0.19,>=0.14 in /usr/local/lib/python3.10/dist-packages (from transformers->-r requirements.txt (line 11)) (0.15.0)\n",
            "Requirement already satisfied: safetensors>=0.3.1 in /usr/local/lib/python3.10/dist-packages (from transformers->-r requirements.txt (line 11)) (0.4.0)\n",
            "Requirement already satisfied: protobuf>=3.20.2 in /usr/local/lib/python3.10/dist-packages (from onnx->-r requirements.txt (line 12)) (3.20.3)\n",
            "Requirement already satisfied: rich in /usr/local/lib/python3.10/dist-packages (from onnxsim->-r requirements.txt (line 13)) (13.7.0)\n",
            "Collecting coloredlogs (from onnxruntime->-r requirements.txt (line 14))\n",
            "  Downloading coloredlogs-15.0.1-py2.py3-none-any.whl (46 kB)\n",
            "\u001b[2K     \u001b[90m━━━━━━━━━━━━━━━━━━━━━━━━━━━━━━━━━━━━━━━━\u001b[0m \u001b[32m46.0/46.0 kB\u001b[0m \u001b[31m7.0 MB/s\u001b[0m eta \u001b[36m0:00:00\u001b[0m\n",
            "\u001b[?25hRequirement already satisfied: flatbuffers in /usr/local/lib/python3.10/dist-packages (from onnxruntime->-r requirements.txt (line 14)) (23.5.26)\n",
            "Collecting ruamel.yaml>=0.16.12 (from TinyNeuralNetwork==0.1.0.20231017172124+4d7ff7c10d113afe60e4ea651551387121a5dbd0->-r requirements.txt (line 15))\n",
            "  Downloading ruamel.yaml-0.18.5-py3-none-any.whl (116 kB)\n",
            "\u001b[2K     \u001b[90m━━━━━━━━━━━━━━━━━━━━━━━━━━━━━━━━━━━━━━━━\u001b[0m \u001b[32m116.4/116.4 kB\u001b[0m \u001b[31m15.6 MB/s\u001b[0m eta \u001b[36m0:00:00\u001b[0m\n",
            "\u001b[?25hCollecting igraph>=0.9 (from TinyNeuralNetwork==0.1.0.20231017172124+4d7ff7c10d113afe60e4ea651551387121a5dbd0->-r requirements.txt (line 15))\n",
            "  Downloading igraph-0.11.3-cp39-abi3-manylinux_2_17_x86_64.manylinux2014_x86_64.whl (3.3 MB)\n",
            "\u001b[2K     \u001b[90m━━━━━━━━━━━━━━━━━━━━━━━━━━━━━━━━━━━━━━━━\u001b[0m \u001b[32m3.3/3.3 MB\u001b[0m \u001b[31m112.8 MB/s\u001b[0m eta \u001b[36m0:00:00\u001b[0m\n",
            "\u001b[?25hRequirement already satisfied: fsspec>=2023.5.0 in /usr/local/lib/python3.10/dist-packages (from huggingface-hub->timm==0.6.13->-r requirements.txt (line 5)) (2023.6.0)\n",
            "Collecting texttable>=1.6.2 (from igraph>=0.9->TinyNeuralNetwork==0.1.0.20231017172124+4d7ff7c10d113afe60e4ea651551387121a5dbd0->-r requirements.txt (line 15))\n",
            "  Downloading texttable-1.7.0-py2.py3-none-any.whl (10 kB)\n",
            "Requirement already satisfied: six>=1.5 in /usr/local/lib/python3.10/dist-packages (from python-dateutil>=2.7->matplotlib->-r requirements.txt (line 9)) (1.16.0)\n",
            "Collecting ruamel.yaml.clib>=0.2.7 (from ruamel.yaml>=0.16.12->TinyNeuralNetwork==0.1.0.20231017172124+4d7ff7c10d113afe60e4ea651551387121a5dbd0->-r requirements.txt (line 15))\n",
            "  Downloading ruamel.yaml.clib-0.2.8-cp310-cp310-manylinux_2_17_x86_64.manylinux2014_x86_64.manylinux_2_24_x86_64.whl (526 kB)\n",
            "\u001b[2K     \u001b[90m━━━━━━━━━━━━━━━━━━━━━━━━━━━━━━━━━━━━━━━━\u001b[0m \u001b[32m526.7/526.7 kB\u001b[0m \u001b[31m51.3 MB/s\u001b[0m eta \u001b[36m0:00:00\u001b[0m\n",
            "\u001b[?25hCollecting humanfriendly>=9.1 (from coloredlogs->onnxruntime->-r requirements.txt (line 14))\n",
            "  Downloading humanfriendly-10.0-py2.py3-none-any.whl (86 kB)\n",
            "\u001b[2K     \u001b[90m━━━━━━━━━━━━━━━━━━━━━━━━━━━━━━━━━━━━━━━━\u001b[0m \u001b[32m86.8/86.8 kB\u001b[0m \u001b[31m13.6 MB/s\u001b[0m eta \u001b[36m0:00:00\u001b[0m\n",
            "\u001b[?25hRequirement already satisfied: MarkupSafe>=2.0 in /usr/local/lib/python3.10/dist-packages (from jinja2->torch==2.0.1->-r requirements.txt (line 1)) (2.1.3)\n",
            "Requirement already satisfied: charset-normalizer<4,>=2 in /usr/local/lib/python3.10/dist-packages (from requests->torchvision==0.15.2->-r requirements.txt (line 2)) (3.3.2)\n",
            "Requirement already satisfied: idna<4,>=2.5 in /usr/local/lib/python3.10/dist-packages (from requests->torchvision==0.15.2->-r requirements.txt (line 2)) (3.4)\n",
            "Requirement already satisfied: urllib3<3,>=1.21.1 in /usr/local/lib/python3.10/dist-packages (from requests->torchvision==0.15.2->-r requirements.txt (line 2)) (2.0.7)\n",
            "Requirement already satisfied: certifi>=2017.4.17 in /usr/local/lib/python3.10/dist-packages (from requests->torchvision==0.15.2->-r requirements.txt (line 2)) (2023.7.22)\n",
            "Requirement already satisfied: markdown-it-py>=2.2.0 in /usr/local/lib/python3.10/dist-packages (from rich->onnxsim->-r requirements.txt (line 13)) (3.0.0)\n",
            "Requirement already satisfied: pygments<3.0.0,>=2.13.0 in /usr/local/lib/python3.10/dist-packages (from rich->onnxsim->-r requirements.txt (line 13)) (2.16.1)\n",
            "Requirement already satisfied: mpmath>=0.19 in /usr/local/lib/python3.10/dist-packages (from sympy->torch==2.0.1->-r requirements.txt (line 1)) (1.3.0)\n",
            "Requirement already satisfied: mdurl~=0.1 in /usr/local/lib/python3.10/dist-packages (from markdown-it-py>=2.2.0->rich->onnxsim->-r requirements.txt (line 13)) (0.1.2)\n",
            "Building wheels for collected packages: torchpack, TinyNeuralNetwork, segment-anything, lit\n",
            "  Building wheel for torchpack (setup.py) ... \u001b[?25l\u001b[?25hdone\n",
            "  Created wheel for torchpack: filename=torchpack-0.3.1-py3-none-any.whl size=35430 sha256=bf301921cf769704b5fc1f996304d433c574d169aad707051d1f1ba95f455a70\n",
            "  Stored in directory: /root/.cache/pip/wheels/8f/0a/4a/1244bbb1556ac42f11e11923251c05791436de5d4a5259cb54\n",
            "  Building wheel for TinyNeuralNetwork (pyproject.toml) ... \u001b[?25l\u001b[?25hdone\n",
            "  Created wheel for TinyNeuralNetwork: filename=TinyNeuralNetwork-0.1.0.20231017172124+4d7ff7c10d113afe60e4ea651551387121a5dbd0-py3-none-any.whl size=417009 sha256=836d9b77b091b1e4c6f91e78c3e34ae10da167024d1bc48f33f8864eb9814426\n",
            "  Stored in directory: /tmp/pip-ephem-wheel-cache-sldxfu7t/wheels/db/97/8f/593b5237a6623d14e56bcc7a38f7799f40432876ff4671410b\n",
            "  Building wheel for segment-anything (setup.py) ... \u001b[?25l\u001b[?25hdone\n",
            "  Created wheel for segment-anything: filename=segment_anything-1.0-py3-none-any.whl size=36588 sha256=610dda8cbc2af534607b1d5e1be4a5862f7cd7515cf54e3ad3af137a8bf59e39\n",
            "  Stored in directory: /tmp/pip-ephem-wheel-cache-sldxfu7t/wheels/10/cf/59/9ccb2f0a1bcc81d4fbd0e501680b5d088d690c6cfbc02dc99d\n",
            "  Building wheel for lit (pyproject.toml) ... \u001b[?25l\u001b[?25hdone\n",
            "  Created wheel for lit: filename=lit-17.0.5-py3-none-any.whl size=93256 sha256=2f5cf5f4315cfea54b08bf072fe7c07676f525341a7114e26ce7254fc2f4ec6a\n",
            "  Stored in directory: /root/.cache/pip/wheels/1c/87/8e/5a42c0d4be23362b68bbff33b17f3c35a3df44f1cd2f5a24b4\n",
            "Successfully built torchpack TinyNeuralNetwork segment-anything lit\n",
            "Installing collected packages: texttable, segment-anything, lit, ruamel.yaml.clib, onnx, nvidia-nvtx-cu11, nvidia-nccl-cu11, nvidia-cusparse-cu11, nvidia-curand-cu11, nvidia-cufft-cu11, nvidia-cuda-runtime-cu11, nvidia-cuda-nvrtc-cu11, nvidia-cuda-cupti-cu11, nvidia-cublas-cu11, multimethod, loguru, igraph, humanfriendly, einops, ruamel.yaml, nvidia-cusolver-cu11, nvidia-cudnn-cu11, coloredlogs, TinyNeuralNetwork, onnxsim, onnxruntime, triton, torch, torchvision, torchprofile, torchpack, timm\n",
            "  Attempting uninstall: triton\n",
            "    Found existing installation: triton 2.1.0\n",
            "    Uninstalling triton-2.1.0:\n",
            "      Successfully uninstalled triton-2.1.0\n",
            "  Attempting uninstall: torch\n",
            "    Found existing installation: torch 2.1.0+cu118\n",
            "    Uninstalling torch-2.1.0+cu118:\n",
            "      Successfully uninstalled torch-2.1.0+cu118\n",
            "  Attempting uninstall: torchvision\n",
            "    Found existing installation: torchvision 0.16.0+cu118\n",
            "    Uninstalling torchvision-0.16.0+cu118:\n",
            "      Successfully uninstalled torchvision-0.16.0+cu118\n",
            "\u001b[31mERROR: pip's dependency resolver does not currently take into account all the packages that are installed. This behaviour is the source of the following dependency conflicts.\n",
            "torchaudio 2.1.0+cu118 requires torch==2.1.0, but you have torch 2.0.1 which is incompatible.\n",
            "torchdata 0.7.0 requires torch==2.1.0, but you have torch 2.0.1 which is incompatible.\n",
            "torchtext 0.16.0 requires torch==2.1.0, but you have torch 2.0.1 which is incompatible.\u001b[0m\u001b[31m\n",
            "\u001b[0mSuccessfully installed TinyNeuralNetwork-0.1.0.20231017172124+4d7ff7c10d113afe60e4ea651551387121a5dbd0 coloredlogs-15.0.1 einops-0.7.0 humanfriendly-10.0 igraph-0.11.3 lit-17.0.5 loguru-0.7.2 multimethod-1.10 nvidia-cublas-cu11-11.10.3.66 nvidia-cuda-cupti-cu11-11.7.101 nvidia-cuda-nvrtc-cu11-11.7.99 nvidia-cuda-runtime-cu11-11.7.99 nvidia-cudnn-cu11-8.5.0.96 nvidia-cufft-cu11-10.9.0.58 nvidia-curand-cu11-10.2.10.91 nvidia-cusolver-cu11-11.4.0.1 nvidia-cusparse-cu11-11.7.4.91 nvidia-nccl-cu11-2.14.3 nvidia-nvtx-cu11-11.7.91 onnx-1.15.0 onnxruntime-1.16.3 onnxsim-0.4.35 ruamel.yaml-0.18.5 ruamel.yaml.clib-0.2.8 segment-anything-1.0 texttable-1.7.0 timm-0.6.13 torch-2.0.1 torchpack-0.3.1 torchprofile-0.0.4 torchvision-0.15.2 triton-2.0.0\n"
          ]
        }
      ]
    },
    {
      "cell_type": "code",
      "source": [
        "%pip install torchaudio==2.0.2\n",
        "%pip install torchvision==0.15.2\n",
        "%pip install torchdata==0.6.1\n",
        "%pip install torchtext==0.15.2\n",
        "%pip install torch==2.0.1"
      ],
      "metadata": {
        "colab": {
          "base_uri": "https://localhost:8080/"
        },
        "id": "P5C-v9-i0znf",
        "outputId": "80249155-9a3d-4f34-8008-01761b34353a"
      },
      "execution_count": null,
      "outputs": [
        {
          "output_type": "stream",
          "name": "stdout",
          "text": [
            "Collecting torchaudio==2.0.2\n",
            "  Downloading torchaudio-2.0.2-cp310-cp310-manylinux1_x86_64.whl (4.4 MB)\n",
            "\u001b[?25l     \u001b[90m━━━━━━━━━━━━━━━━━━━━━━━━━━━━━━━━━━━━━━━━\u001b[0m \u001b[32m0.0/4.4 MB\u001b[0m \u001b[31m?\u001b[0m eta \u001b[36m-:--:--\u001b[0m\r\u001b[2K     \u001b[91m━━\u001b[0m\u001b[91m╸\u001b[0m\u001b[90m━━━━━━━━━━━━━━━━━━━━━━━━━━━━━━━━━━━━━\u001b[0m \u001b[32m0.3/4.4 MB\u001b[0m \u001b[31m9.6 MB/s\u001b[0m eta \u001b[36m0:00:01\u001b[0m\r\u001b[2K     \u001b[91m━━━━━━━━━━━━━━━━━━━━━━━━━━━━━━━━━━━━━━\u001b[0m\u001b[90m╺\u001b[0m\u001b[90m━\u001b[0m \u001b[32m4.2/4.4 MB\u001b[0m \u001b[31m67.7 MB/s\u001b[0m eta \u001b[36m0:00:01\u001b[0m\r\u001b[2K     \u001b[90m━━━━━━━━━━━━━━━━━━━━━━━━━━━━━━━━━━━━━━━━\u001b[0m \u001b[32m4.4/4.4 MB\u001b[0m \u001b[31m46.2 MB/s\u001b[0m eta \u001b[36m0:00:00\u001b[0m\n",
            "\u001b[?25hRequirement already satisfied: torch==2.0.1 in /usr/local/lib/python3.10/dist-packages (from torchaudio==2.0.2) (2.0.1)\n",
            "Requirement already satisfied: filelock in /usr/local/lib/python3.10/dist-packages (from torch==2.0.1->torchaudio==2.0.2) (3.13.1)\n",
            "Requirement already satisfied: typing-extensions in /usr/local/lib/python3.10/dist-packages (from torch==2.0.1->torchaudio==2.0.2) (4.5.0)\n",
            "Requirement already satisfied: sympy in /usr/local/lib/python3.10/dist-packages (from torch==2.0.1->torchaudio==2.0.2) (1.12)\n",
            "Requirement already satisfied: networkx in /usr/local/lib/python3.10/dist-packages (from torch==2.0.1->torchaudio==2.0.2) (3.2.1)\n",
            "Requirement already satisfied: jinja2 in /usr/local/lib/python3.10/dist-packages (from torch==2.0.1->torchaudio==2.0.2) (3.1.2)\n",
            "Requirement already satisfied: nvidia-cuda-nvrtc-cu11==11.7.99 in /usr/local/lib/python3.10/dist-packages (from torch==2.0.1->torchaudio==2.0.2) (11.7.99)\n",
            "Requirement already satisfied: nvidia-cuda-runtime-cu11==11.7.99 in /usr/local/lib/python3.10/dist-packages (from torch==2.0.1->torchaudio==2.0.2) (11.7.99)\n",
            "Requirement already satisfied: nvidia-cuda-cupti-cu11==11.7.101 in /usr/local/lib/python3.10/dist-packages (from torch==2.0.1->torchaudio==2.0.2) (11.7.101)\n",
            "Requirement already satisfied: nvidia-cudnn-cu11==8.5.0.96 in /usr/local/lib/python3.10/dist-packages (from torch==2.0.1->torchaudio==2.0.2) (8.5.0.96)\n",
            "Requirement already satisfied: nvidia-cublas-cu11==11.10.3.66 in /usr/local/lib/python3.10/dist-packages (from torch==2.0.1->torchaudio==2.0.2) (11.10.3.66)\n",
            "Requirement already satisfied: nvidia-cufft-cu11==10.9.0.58 in /usr/local/lib/python3.10/dist-packages (from torch==2.0.1->torchaudio==2.0.2) (10.9.0.58)\n",
            "Requirement already satisfied: nvidia-curand-cu11==10.2.10.91 in /usr/local/lib/python3.10/dist-packages (from torch==2.0.1->torchaudio==2.0.2) (10.2.10.91)\n",
            "Requirement already satisfied: nvidia-cusolver-cu11==11.4.0.1 in /usr/local/lib/python3.10/dist-packages (from torch==2.0.1->torchaudio==2.0.2) (11.4.0.1)\n",
            "Requirement already satisfied: nvidia-cusparse-cu11==11.7.4.91 in /usr/local/lib/python3.10/dist-packages (from torch==2.0.1->torchaudio==2.0.2) (11.7.4.91)\n",
            "Requirement already satisfied: nvidia-nccl-cu11==2.14.3 in /usr/local/lib/python3.10/dist-packages (from torch==2.0.1->torchaudio==2.0.2) (2.14.3)\n",
            "Requirement already satisfied: nvidia-nvtx-cu11==11.7.91 in /usr/local/lib/python3.10/dist-packages (from torch==2.0.1->torchaudio==2.0.2) (11.7.91)\n",
            "Requirement already satisfied: triton==2.0.0 in /usr/local/lib/python3.10/dist-packages (from torch==2.0.1->torchaudio==2.0.2) (2.0.0)\n",
            "Requirement already satisfied: setuptools in /usr/local/lib/python3.10/dist-packages (from nvidia-cublas-cu11==11.10.3.66->torch==2.0.1->torchaudio==2.0.2) (67.7.2)\n",
            "Requirement already satisfied: wheel in /usr/local/lib/python3.10/dist-packages (from nvidia-cublas-cu11==11.10.3.66->torch==2.0.1->torchaudio==2.0.2) (0.41.3)\n",
            "Requirement already satisfied: cmake in /usr/local/lib/python3.10/dist-packages (from triton==2.0.0->torch==2.0.1->torchaudio==2.0.2) (3.27.7)\n",
            "Requirement already satisfied: lit in /usr/local/lib/python3.10/dist-packages (from triton==2.0.0->torch==2.0.1->torchaudio==2.0.2) (17.0.5)\n",
            "Requirement already satisfied: MarkupSafe>=2.0 in /usr/local/lib/python3.10/dist-packages (from jinja2->torch==2.0.1->torchaudio==2.0.2) (2.1.3)\n",
            "Requirement already satisfied: mpmath>=0.19 in /usr/local/lib/python3.10/dist-packages (from sympy->torch==2.0.1->torchaudio==2.0.2) (1.3.0)\n",
            "Installing collected packages: torchaudio\n",
            "  Attempting uninstall: torchaudio\n",
            "    Found existing installation: torchaudio 2.1.0+cu118\n",
            "    Uninstalling torchaudio-2.1.0+cu118:\n",
            "      Successfully uninstalled torchaudio-2.1.0+cu118\n",
            "Successfully installed torchaudio-2.0.2\n",
            "Requirement already satisfied: torchvision==0.15.2 in /usr/local/lib/python3.10/dist-packages (0.15.2)\n",
            "Requirement already satisfied: numpy in /usr/local/lib/python3.10/dist-packages (from torchvision==0.15.2) (1.23.5)\n",
            "Requirement already satisfied: requests in /usr/local/lib/python3.10/dist-packages (from torchvision==0.15.2) (2.31.0)\n",
            "Requirement already satisfied: torch==2.0.1 in /usr/local/lib/python3.10/dist-packages (from torchvision==0.15.2) (2.0.1)\n",
            "Requirement already satisfied: pillow!=8.3.*,>=5.3.0 in /usr/local/lib/python3.10/dist-packages (from torchvision==0.15.2) (9.4.0)\n",
            "Requirement already satisfied: filelock in /usr/local/lib/python3.10/dist-packages (from torch==2.0.1->torchvision==0.15.2) (3.13.1)\n",
            "Requirement already satisfied: typing-extensions in /usr/local/lib/python3.10/dist-packages (from torch==2.0.1->torchvision==0.15.2) (4.5.0)\n",
            "Requirement already satisfied: sympy in /usr/local/lib/python3.10/dist-packages (from torch==2.0.1->torchvision==0.15.2) (1.12)\n",
            "Requirement already satisfied: networkx in /usr/local/lib/python3.10/dist-packages (from torch==2.0.1->torchvision==0.15.2) (3.2.1)\n",
            "Requirement already satisfied: jinja2 in /usr/local/lib/python3.10/dist-packages (from torch==2.0.1->torchvision==0.15.2) (3.1.2)\n",
            "Requirement already satisfied: nvidia-cuda-nvrtc-cu11==11.7.99 in /usr/local/lib/python3.10/dist-packages (from torch==2.0.1->torchvision==0.15.2) (11.7.99)\n",
            "Requirement already satisfied: nvidia-cuda-runtime-cu11==11.7.99 in /usr/local/lib/python3.10/dist-packages (from torch==2.0.1->torchvision==0.15.2) (11.7.99)\n",
            "Requirement already satisfied: nvidia-cuda-cupti-cu11==11.7.101 in /usr/local/lib/python3.10/dist-packages (from torch==2.0.1->torchvision==0.15.2) (11.7.101)\n",
            "Requirement already satisfied: nvidia-cudnn-cu11==8.5.0.96 in /usr/local/lib/python3.10/dist-packages (from torch==2.0.1->torchvision==0.15.2) (8.5.0.96)\n",
            "Requirement already satisfied: nvidia-cublas-cu11==11.10.3.66 in /usr/local/lib/python3.10/dist-packages (from torch==2.0.1->torchvision==0.15.2) (11.10.3.66)\n",
            "Requirement already satisfied: nvidia-cufft-cu11==10.9.0.58 in /usr/local/lib/python3.10/dist-packages (from torch==2.0.1->torchvision==0.15.2) (10.9.0.58)\n",
            "Requirement already satisfied: nvidia-curand-cu11==10.2.10.91 in /usr/local/lib/python3.10/dist-packages (from torch==2.0.1->torchvision==0.15.2) (10.2.10.91)\n",
            "Requirement already satisfied: nvidia-cusolver-cu11==11.4.0.1 in /usr/local/lib/python3.10/dist-packages (from torch==2.0.1->torchvision==0.15.2) (11.4.0.1)\n",
            "Requirement already satisfied: nvidia-cusparse-cu11==11.7.4.91 in /usr/local/lib/python3.10/dist-packages (from torch==2.0.1->torchvision==0.15.2) (11.7.4.91)\n",
            "Requirement already satisfied: nvidia-nccl-cu11==2.14.3 in /usr/local/lib/python3.10/dist-packages (from torch==2.0.1->torchvision==0.15.2) (2.14.3)\n",
            "Requirement already satisfied: nvidia-nvtx-cu11==11.7.91 in /usr/local/lib/python3.10/dist-packages (from torch==2.0.1->torchvision==0.15.2) (11.7.91)\n",
            "Requirement already satisfied: triton==2.0.0 in /usr/local/lib/python3.10/dist-packages (from torch==2.0.1->torchvision==0.15.2) (2.0.0)\n",
            "Requirement already satisfied: setuptools in /usr/local/lib/python3.10/dist-packages (from nvidia-cublas-cu11==11.10.3.66->torch==2.0.1->torchvision==0.15.2) (67.7.2)\n",
            "Requirement already satisfied: wheel in /usr/local/lib/python3.10/dist-packages (from nvidia-cublas-cu11==11.10.3.66->torch==2.0.1->torchvision==0.15.2) (0.41.3)\n",
            "Requirement already satisfied: cmake in /usr/local/lib/python3.10/dist-packages (from triton==2.0.0->torch==2.0.1->torchvision==0.15.2) (3.27.7)\n",
            "Requirement already satisfied: lit in /usr/local/lib/python3.10/dist-packages (from triton==2.0.0->torch==2.0.1->torchvision==0.15.2) (17.0.5)\n",
            "Requirement already satisfied: charset-normalizer<4,>=2 in /usr/local/lib/python3.10/dist-packages (from requests->torchvision==0.15.2) (3.3.2)\n",
            "Requirement already satisfied: idna<4,>=2.5 in /usr/local/lib/python3.10/dist-packages (from requests->torchvision==0.15.2) (3.4)\n",
            "Requirement already satisfied: urllib3<3,>=1.21.1 in /usr/local/lib/python3.10/dist-packages (from requests->torchvision==0.15.2) (2.0.7)\n",
            "Requirement already satisfied: certifi>=2017.4.17 in /usr/local/lib/python3.10/dist-packages (from requests->torchvision==0.15.2) (2023.7.22)\n",
            "Requirement already satisfied: MarkupSafe>=2.0 in /usr/local/lib/python3.10/dist-packages (from jinja2->torch==2.0.1->torchvision==0.15.2) (2.1.3)\n",
            "Requirement already satisfied: mpmath>=0.19 in /usr/local/lib/python3.10/dist-packages (from sympy->torch==2.0.1->torchvision==0.15.2) (1.3.0)\n",
            "Collecting torchdata==0.6.1\n",
            "  Downloading torchdata-0.6.1-cp310-cp310-manylinux_2_17_x86_64.manylinux2014_x86_64.whl (4.6 MB)\n",
            "\u001b[2K     \u001b[90m━━━━━━━━━━━━━━━━━━━━━━━━━━━━━━━━━━━━━━━━\u001b[0m \u001b[32m4.6/4.6 MB\u001b[0m \u001b[31m15.6 MB/s\u001b[0m eta \u001b[36m0:00:00\u001b[0m\n",
            "\u001b[?25hRequirement already satisfied: urllib3>=1.25 in /usr/local/lib/python3.10/dist-packages (from torchdata==0.6.1) (2.0.7)\n",
            "Requirement already satisfied: requests in /usr/local/lib/python3.10/dist-packages (from torchdata==0.6.1) (2.31.0)\n",
            "Requirement already satisfied: torch==2.0.1 in /usr/local/lib/python3.10/dist-packages (from torchdata==0.6.1) (2.0.1)\n",
            "Requirement already satisfied: filelock in /usr/local/lib/python3.10/dist-packages (from torch==2.0.1->torchdata==0.6.1) (3.13.1)\n",
            "Requirement already satisfied: typing-extensions in /usr/local/lib/python3.10/dist-packages (from torch==2.0.1->torchdata==0.6.1) (4.5.0)\n",
            "Requirement already satisfied: sympy in /usr/local/lib/python3.10/dist-packages (from torch==2.0.1->torchdata==0.6.1) (1.12)\n",
            "Requirement already satisfied: networkx in /usr/local/lib/python3.10/dist-packages (from torch==2.0.1->torchdata==0.6.1) (3.2.1)\n",
            "Requirement already satisfied: jinja2 in /usr/local/lib/python3.10/dist-packages (from torch==2.0.1->torchdata==0.6.1) (3.1.2)\n",
            "Requirement already satisfied: nvidia-cuda-nvrtc-cu11==11.7.99 in /usr/local/lib/python3.10/dist-packages (from torch==2.0.1->torchdata==0.6.1) (11.7.99)\n",
            "Requirement already satisfied: nvidia-cuda-runtime-cu11==11.7.99 in /usr/local/lib/python3.10/dist-packages (from torch==2.0.1->torchdata==0.6.1) (11.7.99)\n",
            "Requirement already satisfied: nvidia-cuda-cupti-cu11==11.7.101 in /usr/local/lib/python3.10/dist-packages (from torch==2.0.1->torchdata==0.6.1) (11.7.101)\n",
            "Requirement already satisfied: nvidia-cudnn-cu11==8.5.0.96 in /usr/local/lib/python3.10/dist-packages (from torch==2.0.1->torchdata==0.6.1) (8.5.0.96)\n",
            "Requirement already satisfied: nvidia-cublas-cu11==11.10.3.66 in /usr/local/lib/python3.10/dist-packages (from torch==2.0.1->torchdata==0.6.1) (11.10.3.66)\n",
            "Requirement already satisfied: nvidia-cufft-cu11==10.9.0.58 in /usr/local/lib/python3.10/dist-packages (from torch==2.0.1->torchdata==0.6.1) (10.9.0.58)\n",
            "Requirement already satisfied: nvidia-curand-cu11==10.2.10.91 in /usr/local/lib/python3.10/dist-packages (from torch==2.0.1->torchdata==0.6.1) (10.2.10.91)\n",
            "Requirement already satisfied: nvidia-cusolver-cu11==11.4.0.1 in /usr/local/lib/python3.10/dist-packages (from torch==2.0.1->torchdata==0.6.1) (11.4.0.1)\n",
            "Requirement already satisfied: nvidia-cusparse-cu11==11.7.4.91 in /usr/local/lib/python3.10/dist-packages (from torch==2.0.1->torchdata==0.6.1) (11.7.4.91)\n",
            "Requirement already satisfied: nvidia-nccl-cu11==2.14.3 in /usr/local/lib/python3.10/dist-packages (from torch==2.0.1->torchdata==0.6.1) (2.14.3)\n",
            "Requirement already satisfied: nvidia-nvtx-cu11==11.7.91 in /usr/local/lib/python3.10/dist-packages (from torch==2.0.1->torchdata==0.6.1) (11.7.91)\n",
            "Requirement already satisfied: triton==2.0.0 in /usr/local/lib/python3.10/dist-packages (from torch==2.0.1->torchdata==0.6.1) (2.0.0)\n",
            "Requirement already satisfied: setuptools in /usr/local/lib/python3.10/dist-packages (from nvidia-cublas-cu11==11.10.3.66->torch==2.0.1->torchdata==0.6.1) (67.7.2)\n",
            "Requirement already satisfied: wheel in /usr/local/lib/python3.10/dist-packages (from nvidia-cublas-cu11==11.10.3.66->torch==2.0.1->torchdata==0.6.1) (0.41.3)\n",
            "Requirement already satisfied: cmake in /usr/local/lib/python3.10/dist-packages (from triton==2.0.0->torch==2.0.1->torchdata==0.6.1) (3.27.7)\n",
            "Requirement already satisfied: lit in /usr/local/lib/python3.10/dist-packages (from triton==2.0.0->torch==2.0.1->torchdata==0.6.1) (17.0.5)\n",
            "Requirement already satisfied: charset-normalizer<4,>=2 in /usr/local/lib/python3.10/dist-packages (from requests->torchdata==0.6.1) (3.3.2)\n",
            "Requirement already satisfied: idna<4,>=2.5 in /usr/local/lib/python3.10/dist-packages (from requests->torchdata==0.6.1) (3.4)\n",
            "Requirement already satisfied: certifi>=2017.4.17 in /usr/local/lib/python3.10/dist-packages (from requests->torchdata==0.6.1) (2023.7.22)\n",
            "Requirement already satisfied: MarkupSafe>=2.0 in /usr/local/lib/python3.10/dist-packages (from jinja2->torch==2.0.1->torchdata==0.6.1) (2.1.3)\n",
            "Requirement already satisfied: mpmath>=0.19 in /usr/local/lib/python3.10/dist-packages (from sympy->torch==2.0.1->torchdata==0.6.1) (1.3.0)\n",
            "Installing collected packages: torchdata\n",
            "  Attempting uninstall: torchdata\n",
            "    Found existing installation: torchdata 0.7.0\n",
            "    Uninstalling torchdata-0.7.0:\n",
            "      Successfully uninstalled torchdata-0.7.0\n",
            "\u001b[31mERROR: pip's dependency resolver does not currently take into account all the packages that are installed. This behaviour is the source of the following dependency conflicts.\n",
            "torchtext 0.16.0 requires torch==2.1.0, but you have torch 2.0.1 which is incompatible.\n",
            "torchtext 0.16.0 requires torchdata==0.7.0, but you have torchdata 0.6.1 which is incompatible.\u001b[0m\u001b[31m\n",
            "\u001b[0mSuccessfully installed torchdata-0.6.1\n",
            "Collecting torchtext==0.15.2\n",
            "  Downloading torchtext-0.15.2-cp310-cp310-manylinux1_x86_64.whl (2.0 MB)\n",
            "\u001b[2K     \u001b[90m━━━━━━━━━━━━━━━━━━━━━━━━━━━━━━━━━━━━━━━━\u001b[0m \u001b[32m2.0/2.0 MB\u001b[0m \u001b[31m11.7 MB/s\u001b[0m eta \u001b[36m0:00:00\u001b[0m\n",
            "\u001b[?25hRequirement already satisfied: tqdm in /usr/local/lib/python3.10/dist-packages (from torchtext==0.15.2) (4.66.1)\n",
            "Requirement already satisfied: requests in /usr/local/lib/python3.10/dist-packages (from torchtext==0.15.2) (2.31.0)\n",
            "Requirement already satisfied: torch==2.0.1 in /usr/local/lib/python3.10/dist-packages (from torchtext==0.15.2) (2.0.1)\n",
            "Requirement already satisfied: numpy in /usr/local/lib/python3.10/dist-packages (from torchtext==0.15.2) (1.23.5)\n",
            "Requirement already satisfied: torchdata==0.6.1 in /usr/local/lib/python3.10/dist-packages (from torchtext==0.15.2) (0.6.1)\n",
            "Requirement already satisfied: filelock in /usr/local/lib/python3.10/dist-packages (from torch==2.0.1->torchtext==0.15.2) (3.13.1)\n",
            "Requirement already satisfied: typing-extensions in /usr/local/lib/python3.10/dist-packages (from torch==2.0.1->torchtext==0.15.2) (4.5.0)\n",
            "Requirement already satisfied: sympy in /usr/local/lib/python3.10/dist-packages (from torch==2.0.1->torchtext==0.15.2) (1.12)\n",
            "Requirement already satisfied: networkx in /usr/local/lib/python3.10/dist-packages (from torch==2.0.1->torchtext==0.15.2) (3.2.1)\n",
            "Requirement already satisfied: jinja2 in /usr/local/lib/python3.10/dist-packages (from torch==2.0.1->torchtext==0.15.2) (3.1.2)\n",
            "Requirement already satisfied: nvidia-cuda-nvrtc-cu11==11.7.99 in /usr/local/lib/python3.10/dist-packages (from torch==2.0.1->torchtext==0.15.2) (11.7.99)\n",
            "Requirement already satisfied: nvidia-cuda-runtime-cu11==11.7.99 in /usr/local/lib/python3.10/dist-packages (from torch==2.0.1->torchtext==0.15.2) (11.7.99)\n",
            "Requirement already satisfied: nvidia-cuda-cupti-cu11==11.7.101 in /usr/local/lib/python3.10/dist-packages (from torch==2.0.1->torchtext==0.15.2) (11.7.101)\n",
            "Requirement already satisfied: nvidia-cudnn-cu11==8.5.0.96 in /usr/local/lib/python3.10/dist-packages (from torch==2.0.1->torchtext==0.15.2) (8.5.0.96)\n",
            "Requirement already satisfied: nvidia-cublas-cu11==11.10.3.66 in /usr/local/lib/python3.10/dist-packages (from torch==2.0.1->torchtext==0.15.2) (11.10.3.66)\n",
            "Requirement already satisfied: nvidia-cufft-cu11==10.9.0.58 in /usr/local/lib/python3.10/dist-packages (from torch==2.0.1->torchtext==0.15.2) (10.9.0.58)\n",
            "Requirement already satisfied: nvidia-curand-cu11==10.2.10.91 in /usr/local/lib/python3.10/dist-packages (from torch==2.0.1->torchtext==0.15.2) (10.2.10.91)\n",
            "Requirement already satisfied: nvidia-cusolver-cu11==11.4.0.1 in /usr/local/lib/python3.10/dist-packages (from torch==2.0.1->torchtext==0.15.2) (11.4.0.1)\n",
            "Requirement already satisfied: nvidia-cusparse-cu11==11.7.4.91 in /usr/local/lib/python3.10/dist-packages (from torch==2.0.1->torchtext==0.15.2) (11.7.4.91)\n",
            "Requirement already satisfied: nvidia-nccl-cu11==2.14.3 in /usr/local/lib/python3.10/dist-packages (from torch==2.0.1->torchtext==0.15.2) (2.14.3)\n",
            "Requirement already satisfied: nvidia-nvtx-cu11==11.7.91 in /usr/local/lib/python3.10/dist-packages (from torch==2.0.1->torchtext==0.15.2) (11.7.91)\n",
            "Requirement already satisfied: triton==2.0.0 in /usr/local/lib/python3.10/dist-packages (from torch==2.0.1->torchtext==0.15.2) (2.0.0)\n",
            "Requirement already satisfied: urllib3>=1.25 in /usr/local/lib/python3.10/dist-packages (from torchdata==0.6.1->torchtext==0.15.2) (2.0.7)\n",
            "Requirement already satisfied: setuptools in /usr/local/lib/python3.10/dist-packages (from nvidia-cublas-cu11==11.10.3.66->torch==2.0.1->torchtext==0.15.2) (67.7.2)\n",
            "Requirement already satisfied: wheel in /usr/local/lib/python3.10/dist-packages (from nvidia-cublas-cu11==11.10.3.66->torch==2.0.1->torchtext==0.15.2) (0.41.3)\n",
            "Requirement already satisfied: cmake in /usr/local/lib/python3.10/dist-packages (from triton==2.0.0->torch==2.0.1->torchtext==0.15.2) (3.27.7)\n",
            "Requirement already satisfied: lit in /usr/local/lib/python3.10/dist-packages (from triton==2.0.0->torch==2.0.1->torchtext==0.15.2) (17.0.5)\n",
            "Requirement already satisfied: charset-normalizer<4,>=2 in /usr/local/lib/python3.10/dist-packages (from requests->torchtext==0.15.2) (3.3.2)\n",
            "Requirement already satisfied: idna<4,>=2.5 in /usr/local/lib/python3.10/dist-packages (from requests->torchtext==0.15.2) (3.4)\n",
            "Requirement already satisfied: certifi>=2017.4.17 in /usr/local/lib/python3.10/dist-packages (from requests->torchtext==0.15.2) (2023.7.22)\n",
            "Requirement already satisfied: MarkupSafe>=2.0 in /usr/local/lib/python3.10/dist-packages (from jinja2->torch==2.0.1->torchtext==0.15.2) (2.1.3)\n",
            "Requirement already satisfied: mpmath>=0.19 in /usr/local/lib/python3.10/dist-packages (from sympy->torch==2.0.1->torchtext==0.15.2) (1.3.0)\n",
            "Installing collected packages: torchtext\n",
            "  Attempting uninstall: torchtext\n",
            "    Found existing installation: torchtext 0.16.0\n",
            "    Uninstalling torchtext-0.16.0:\n",
            "      Successfully uninstalled torchtext-0.16.0\n",
            "Successfully installed torchtext-0.15.2\n",
            "Requirement already satisfied: torch==2.0.1 in /usr/local/lib/python3.10/dist-packages (2.0.1)\n",
            "Requirement already satisfied: filelock in /usr/local/lib/python3.10/dist-packages (from torch==2.0.1) (3.13.1)\n",
            "Requirement already satisfied: typing-extensions in /usr/local/lib/python3.10/dist-packages (from torch==2.0.1) (4.5.0)\n",
            "Requirement already satisfied: sympy in /usr/local/lib/python3.10/dist-packages (from torch==2.0.1) (1.12)\n",
            "Requirement already satisfied: networkx in /usr/local/lib/python3.10/dist-packages (from torch==2.0.1) (3.2.1)\n",
            "Requirement already satisfied: jinja2 in /usr/local/lib/python3.10/dist-packages (from torch==2.0.1) (3.1.2)\n",
            "Requirement already satisfied: nvidia-cuda-nvrtc-cu11==11.7.99 in /usr/local/lib/python3.10/dist-packages (from torch==2.0.1) (11.7.99)\n",
            "Requirement already satisfied: nvidia-cuda-runtime-cu11==11.7.99 in /usr/local/lib/python3.10/dist-packages (from torch==2.0.1) (11.7.99)\n",
            "Requirement already satisfied: nvidia-cuda-cupti-cu11==11.7.101 in /usr/local/lib/python3.10/dist-packages (from torch==2.0.1) (11.7.101)\n",
            "Requirement already satisfied: nvidia-cudnn-cu11==8.5.0.96 in /usr/local/lib/python3.10/dist-packages (from torch==2.0.1) (8.5.0.96)\n",
            "Requirement already satisfied: nvidia-cublas-cu11==11.10.3.66 in /usr/local/lib/python3.10/dist-packages (from torch==2.0.1) (11.10.3.66)\n",
            "Requirement already satisfied: nvidia-cufft-cu11==10.9.0.58 in /usr/local/lib/python3.10/dist-packages (from torch==2.0.1) (10.9.0.58)\n",
            "Requirement already satisfied: nvidia-curand-cu11==10.2.10.91 in /usr/local/lib/python3.10/dist-packages (from torch==2.0.1) (10.2.10.91)\n",
            "Requirement already satisfied: nvidia-cusolver-cu11==11.4.0.1 in /usr/local/lib/python3.10/dist-packages (from torch==2.0.1) (11.4.0.1)\n",
            "Requirement already satisfied: nvidia-cusparse-cu11==11.7.4.91 in /usr/local/lib/python3.10/dist-packages (from torch==2.0.1) (11.7.4.91)\n",
            "Requirement already satisfied: nvidia-nccl-cu11==2.14.3 in /usr/local/lib/python3.10/dist-packages (from torch==2.0.1) (2.14.3)\n",
            "Requirement already satisfied: nvidia-nvtx-cu11==11.7.91 in /usr/local/lib/python3.10/dist-packages (from torch==2.0.1) (11.7.91)\n",
            "Requirement already satisfied: triton==2.0.0 in /usr/local/lib/python3.10/dist-packages (from torch==2.0.1) (2.0.0)\n",
            "Requirement already satisfied: setuptools in /usr/local/lib/python3.10/dist-packages (from nvidia-cublas-cu11==11.10.3.66->torch==2.0.1) (67.7.2)\n",
            "Requirement already satisfied: wheel in /usr/local/lib/python3.10/dist-packages (from nvidia-cublas-cu11==11.10.3.66->torch==2.0.1) (0.41.3)\n",
            "Requirement already satisfied: cmake in /usr/local/lib/python3.10/dist-packages (from triton==2.0.0->torch==2.0.1) (3.27.7)\n",
            "Requirement already satisfied: lit in /usr/local/lib/python3.10/dist-packages (from triton==2.0.0->torch==2.0.1) (17.0.5)\n",
            "Requirement already satisfied: MarkupSafe>=2.0 in /usr/local/lib/python3.10/dist-packages (from jinja2->torch==2.0.1) (2.1.3)\n",
            "Requirement already satisfied: mpmath>=0.19 in /usr/local/lib/python3.10/dist-packages (from sympy->torch==2.0.1) (1.3.0)\n"
          ]
        }
      ]
    },
    {
      "cell_type": "code",
      "source": [
        "%pip install mpi4py"
      ],
      "metadata": {
        "colab": {
          "base_uri": "https://localhost:8080/"
        },
        "id": "_YNI1CVH04Q7",
        "outputId": "e7875433-1f65-48fc-bbdb-4af9b6ab60f1"
      },
      "execution_count": null,
      "outputs": [
        {
          "output_type": "stream",
          "name": "stdout",
          "text": [
            "Collecting mpi4py\n",
            "  Downloading mpi4py-3.1.5.tar.gz (2.5 MB)\n",
            "\u001b[2K     \u001b[90m━━━━━━━━━━━━━━━━━━━━━━━━━━━━━━━━━━━━━━━━\u001b[0m \u001b[32m2.5/2.5 MB\u001b[0m \u001b[31m13.7 MB/s\u001b[0m eta \u001b[36m0:00:00\u001b[0m\n",
            "\u001b[?25h  Installing build dependencies ... \u001b[?25l\u001b[?25hdone\n",
            "  Getting requirements to build wheel ... \u001b[?25l\u001b[?25hdone\n",
            "  Preparing metadata (pyproject.toml) ... \u001b[?25l\u001b[?25hdone\n",
            "Building wheels for collected packages: mpi4py\n",
            "  Building wheel for mpi4py (pyproject.toml) ... \u001b[?25l\u001b[?25hdone\n",
            "  Created wheel for mpi4py: filename=mpi4py-3.1.5-cp310-cp310-linux_x86_64.whl size=2746501 sha256=806a985aaf73395bf9c659ece174508dfc8e31b53d303d5b4baa06fa6e1ecf13\n",
            "  Stored in directory: /root/.cache/pip/wheels/18/2b/7f/c852523089e9182b45fca50ff56f49a51eeb6284fd25a66713\n",
            "Successfully built mpi4py\n",
            "Installing collected packages: mpi4py\n",
            "Successfully installed mpi4py-3.1.5\n"
          ]
        }
      ]
    },
    {
      "cell_type": "code",
      "source": [
        "from google.colab import drive\n",
        "drive.mount('/content/drive')"
      ],
      "metadata": {
        "colab": {
          "base_uri": "https://localhost:8080/"
        },
        "id": "GozTP_Di06kO",
        "outputId": "592e6c9b-7283-4683-c473-ca48d3e0d846"
      },
      "execution_count": null,
      "outputs": [
        {
          "output_type": "stream",
          "name": "stdout",
          "text": [
            "Mounted at /content/drive\n"
          ]
        }
      ]
    },
    {
      "cell_type": "markdown",
      "source": [
        "#Classification"
      ],
      "metadata": {
        "id": "048WxB0nNnoh"
      }
    },
    {
      "cell_type": "code",
      "source": [
        "# classification\n",
        "from efficientvit.cls_model_zoo import create_cls_model\n",
        "\n",
        "efficientvit_cls = create_cls_model(\n",
        "  name=\"l3\", weight_url=r\"/content/drive/MyDrive/Efficient_ViT_checkpoints/cls/l3-r288.pt\",\n",
        ")\n",
        "efficientvit_cls = efficientvit_cls.cuda().eval()"
      ],
      "metadata": {
        "id": "_OeKFr9w1Egm"
      },
      "execution_count": null,
      "outputs": []
    },
    {
      "cell_type": "code",
      "source": [
        "!python eval_cls_model.py --path \"/content/drive/MyDrive/Efficient_ViT_Dataset/SunFlower500-Jesi.v1i.coco-segmentation/\"  --weight_url \"/content/drive/MyDrive/Efficient_ViT_checkpoints/cls/l3-r288.pt\" --model l3 --image_size 288 --crop_ratio 1.0"
      ],
      "metadata": {
        "colab": {
          "base_uri": "https://localhost:8080/"
        },
        "id": "I5KVq4Sv1NVn",
        "outputId": "f773f9e1-b4cc-410a-a13c-f352e9075e9c"
      },
      "execution_count": null,
      "outputs": [
        {
          "output_type": "stream",
          "name": "stdout",
          "text": [
            "/usr/local/lib/python3.10/dist-packages/torch/utils/data/dataloader.py:560: UserWarning: This DataLoader will create 10 worker processes in total. Our suggested max number of worker in current system is 2, which is smaller than what this DataLoader is going to create. Please be aware that excessive worker creation might get DataLoader running slow or even freeze, lower the worker number to avoid potential slowness/freeze if necessary.\n",
            "  warnings.warn(_create_warning_msg(\n",
            "Eval l3 on ImageNet: 100% 10/10 [00:34<00:00,  3.43s/it, top1=0, top5=0, resolution=288]\n",
            "Top1 Acc=0.000, Top5 Acc=0.000\n"
          ]
        }
      ]
    },
    {
      "cell_type": "markdown",
      "source": [
        "#Segment Anything Model - SAM\n"
      ],
      "metadata": {
        "id": "7hg2lanvT7-b"
      }
    },
    {
      "cell_type": "code",
      "source": [
        "# segment anything\n",
        "from efficientvit.sam_model_zoo import create_sam_model\n",
        "\n",
        "efficientvit_sam = create_sam_model(\n",
        "  name=\"l0\", weight_url=\"/content/drive/MyDrive/Efficient_ViT_checkpoints/sam/l0.pt\",\n",
        ")\n",
        "efficientvit_sam = efficientvit_sam.cuda().eval()"
      ],
      "metadata": {
        "id": "ihTISXR5UAmu"
      },
      "execution_count": null,
      "outputs": []
    },
    {
      "cell_type": "code",
      "source": [
        "from efficientvit.models.efficientvit.sam import EfficientViTSamPredictor\n",
        "\n",
        "efficientvit_sam_predictor = EfficientViTSamPredictor(efficientvit_sam)"
      ],
      "metadata": {
        "id": "cIKcwAKWUTj3"
      },
      "execution_count": null,
      "outputs": []
    },
    {
      "cell_type": "code",
      "source": [
        "from efficientvit.models.efficientvit.sam import EfficientViTSamAutomaticMaskGenerator\n",
        "\n",
        "efficientvit_mask_generator = EfficientViTSamAutomaticMaskGenerator(efficientvit_sam)\n"
      ],
      "metadata": {
        "id": "3lijAac6UdO1"
      },
      "execution_count": null,
      "outputs": []
    },
    {
      "cell_type": "markdown",
      "source": [
        "#Demo for SAM"
      ],
      "metadata": {
        "id": "TZK6TmECUqGB"
      }
    },
    {
      "cell_type": "code",
      "source": [
        "!python demo_sam_model.py --model l0 --weight_url \"/content/drive/MyDrive/Efficient_ViT_checkpoints/sam/l0.pt\" --mode box --box \"[150,70,630,400]\" --image_path \"/content/drive/MyDrive/Efficient_ViT_Dataset/SunFlower500-Jesi.v1i.coco-segmentation/train/jesi_05_12__0_4min_rid_frame101_png_jpg.rf.0ba575fe6d3578027417a97758b5fced.jpg\" --output_path \"/content/drive/MyDrive/Efficient_ViT_output/test.png\""
      ],
      "metadata": {
        "colab": {
          "base_uri": "https://localhost:8080/"
        },
        "id": "_Lbmvd8jUhmz",
        "outputId": "2dce1ea3-0dfb-4377-f508-d960f0e9a956"
      },
      "execution_count": null,
      "outputs": [
        {
          "output_type": "stream",
          "name": "stdout",
          "text": [
            "Image Size: W=640, H=640\n"
          ]
        }
      ]
    },
    {
      "cell_type": "markdown",
      "source": [
        "#Evaluation for SAM- Train -Sunflower\n"
      ],
      "metadata": {
        "id": "ZDn_3KDIhI6D"
      }
    },
    {
      "cell_type": "code",
      "source": [
        "!python eval_sam_coco.py --model l0 --image_path \"/content/drive/MyDrive/Efficient_ViT_Dataset/SunFlower500-Jesi.v1i.coco-segmentation/train/\" --weight_url \"/content/drive/MyDrive/Efficient_ViT_checkpoints/sam/l0.pt\" --anno_path \"/content/drive/MyDrive/Efficient_ViT_Dataset/SunFlower500-Jesi.v1i.coco-segmentation/train/_annotations.coco.json\""
      ],
      "metadata": {
        "colab": {
          "base_uri": "https://localhost:8080/"
        },
        "id": "TdxCt7q8adnq",
        "outputId": "8131ea18-139e-4f52-ccd2-a02687a452ab"
      },
      "execution_count": null,
      "outputs": [
        {
          "output_type": "stream",
          "name": "stdout",
          "text": [
            "loading annotations into memory...\n",
            "Done (t=0.01s)\n",
            "creating index...\n",
            "index created!\n",
            "100% 300/300 [00:20<00:00, 14.41it/s, all=42.6, large=42, medium=43.5, small=45.2, dice_metric_all=tensor(0.5856, dtype=torch.float64), dice_metric_large=tensor(0.5793, dtype=torch.float64), dice_metric_medium=tensor(0.5952, dtype=torch.float64), dice_metric_small=tensor(0.6128, dtype=torch.float64)]\n",
            "all=42.588, large=41.972, medium=43.526, small=45.223, dice_metric_all=0.586, dice_metric_large=0.579, dice_metric_medium=0.595, dice_metric_small=0.613\n"
          ]
        }
      ]
    },
    {
      "cell_type": "code",
      "source": [
        "!python eval_sam_coco.py --model l1 --image_path \"/content/drive/MyDrive/Efficient_ViT_Dataset/SunFlower500-Jesi.v1i.coco-segmentation/train/\" --weight_url \"/content/drive/MyDrive/Efficient_ViT_checkpoints/sam/l1.pt\" --anno_path \"/content/drive/MyDrive/Efficient_ViT_Dataset/SunFlower500-Jesi.v1i.coco-segmentation/train/_annotations.coco.json\""
      ],
      "metadata": {
        "colab": {
          "base_uri": "https://localhost:8080/"
        },
        "id": "P-I-nr_khB8a",
        "outputId": "79e91890-8e41-42d9-9eb4-006abb9a064c"
      },
      "execution_count": null,
      "outputs": [
        {
          "output_type": "stream",
          "name": "stdout",
          "text": [
            "loading annotations into memory...\n",
            "Done (t=0.01s)\n",
            "creating index...\n",
            "index created!\n",
            "100% 300/300 [00:22<00:00, 13.43it/s, all=41.8, large=41.8, medium=41.6, small=45, dice_metric_all=tensor(0.5770, dtype=torch.float64), dice_metric_large=tensor(0.5762, dtype=torch.float64), dice_metric_medium=tensor(0.5758, dtype=torch.float64), dice_metric_small=tensor(0.6113, dtype=torch.float64)]\n",
            "all=41.817, large=41.784, medium=41.636, small=45.021, dice_metric_all=0.577, dice_metric_large=0.576, dice_metric_medium=0.576, dice_metric_small=0.611\n"
          ]
        }
      ]
    },
    {
      "cell_type": "code",
      "source": [
        "!python eval_sam_coco.py --model l2 --image_path \"/content/drive/MyDrive/Efficient_ViT_Dataset/SunFlower500-Jesi.v1i.coco-segmentation/train/\" --weight_url \"/content/drive/MyDrive/Efficient_ViT_checkpoints/sam/l2.pt\" --anno_path \"/content/drive/MyDrive/Efficient_ViT_Dataset/SunFlower500-Jesi.v1i.coco-segmentation/train/_annotations.coco.json\""
      ],
      "metadata": {
        "colab": {
          "base_uri": "https://localhost:8080/"
        },
        "id": "dZ1qDV8khi50",
        "outputId": "bb0d6e1c-15e5-4c14-a9a0-264c71180c23"
      },
      "execution_count": null,
      "outputs": [
        {
          "output_type": "stream",
          "name": "stdout",
          "text": [
            "loading annotations into memory...\n",
            "Done (t=0.01s)\n",
            "creating index...\n",
            "index created!\n",
            "100% 300/300 [00:25<00:00, 11.80it/s, all=41.1, large=40.7, medium=41.4, small=45.3, dice_metric_all=tensor(0.5706, dtype=torch.float64), dice_metric_large=tensor(0.5670, dtype=torch.float64), dice_metric_medium=tensor(0.5739, dtype=torch.float64), dice_metric_small=tensor(0.6132, dtype=torch.float64)]\n",
            "all=41.079, large=40.742, medium=41.385, small=45.262, dice_metric_all=0.571, dice_metric_large=0.567, dice_metric_medium=0.574, dice_metric_small=0.613\n"
          ]
        }
      ]
    },
    {
      "cell_type": "markdown",
      "source": [
        "#Evaluation for SAM- Valid -Sunflower"
      ],
      "metadata": {
        "id": "_vEiLZeRh5Bx"
      }
    },
    {
      "cell_type": "code",
      "source": [
        "!python eval_sam_coco.py --model l0 --image_path \"/content/drive/MyDrive/Efficient_ViT_Dataset/SunFlower500-Jesi.v1i.coco-segmentation/valid/\" --weight_url \"/content/drive/MyDrive/Efficient_ViT_checkpoints/sam/l0.pt\" --anno_path \"/content/drive/MyDrive/Efficient_ViT_Dataset/SunFlower500-Jesi.v1i.coco-segmentation/valid/_annotations.coco.json\""
      ],
      "metadata": {
        "colab": {
          "base_uri": "https://localhost:8080/"
        },
        "id": "eU_6d7i8h8k3",
        "outputId": "6ae4f0d6-fbfc-4f50-e793-62703bf463ce"
      },
      "execution_count": null,
      "outputs": [
        {
          "output_type": "stream",
          "name": "stdout",
          "text": [
            "loading annotations into memory...\n",
            "Done (t=0.26s)\n",
            "creating index...\n",
            "index created!\n",
            "100% 50/50 [00:03<00:00, 12.69it/s, all=41.8, large=40.9, medium=44.4, small=0, dice_metric_all=tensor(0.5796, dtype=torch.float64), dice_metric_large=tensor(0.5697, dtype=torch.float64), dice_metric_medium=tensor(0.6084, dtype=torch.float64), dice_metric_small=0]\n",
            "all=41.773, large=40.872, medium=44.388, small=0.000, dice_metric_all=0.580, dice_metric_large=0.570, dice_metric_medium=0.608, dice_metric_small=0.000\n"
          ]
        }
      ]
    },
    {
      "cell_type": "code",
      "source": [
        "!python eval_sam_coco.py --model l1 --image_path \"/content/drive/MyDrive/Efficient_ViT_Dataset/SunFlower500-Jesi.v1i.coco-segmentation/valid/\" --weight_url \"/content/drive/MyDrive/Efficient_ViT_checkpoints/sam/l1.pt\" --anno_path \"/content/drive/MyDrive/Efficient_ViT_Dataset/SunFlower500-Jesi.v1i.coco-segmentation/valid/_annotations.coco.json\""
      ],
      "metadata": {
        "colab": {
          "base_uri": "https://localhost:8080/"
        },
        "id": "lozKiqhLiJCO",
        "outputId": "5d45fe04-0f43-4e05-c554-610307c8e3bc"
      },
      "execution_count": null,
      "outputs": [
        {
          "output_type": "stream",
          "name": "stdout",
          "text": [
            "loading annotations into memory...\n",
            "Done (t=0.00s)\n",
            "creating index...\n",
            "index created!\n",
            "100% 50/50 [00:05<00:00,  9.63it/s, all=41, large=40, medium=43.7, small=0, dice_metric_all=tensor(0.5715, dtype=torch.float64), dice_metric_large=tensor(0.5610, dtype=torch.float64), dice_metric_medium=tensor(0.6019, dtype=torch.float64), dice_metric_small=0]\n",
            "all=40.959, large=40.016, medium=43.696, small=0.000, dice_metric_all=0.571, dice_metric_large=0.561, dice_metric_medium=0.602, dice_metric_small=0.000\n"
          ]
        }
      ]
    },
    {
      "cell_type": "code",
      "source": [
        "!python eval_sam_coco.py --model l2 --image_path \"/content/drive/MyDrive/Efficient_ViT_Dataset/SunFlower500-Jesi.v1i.coco-segmentation/valid/\" --weight_url \"/content/drive/MyDrive/Efficient_ViT_checkpoints/sam/l2.pt\" --anno_path \"/content/drive/MyDrive/Efficient_ViT_Dataset/SunFlower500-Jesi.v1i.coco-segmentation/valid/_annotations.coco.json\""
      ],
      "metadata": {
        "colab": {
          "base_uri": "https://localhost:8080/"
        },
        "id": "uMiyMECsiQRf",
        "outputId": "92f54ac5-a28a-49aa-84f2-0dd2e145b23e"
      },
      "execution_count": null,
      "outputs": [
        {
          "output_type": "stream",
          "name": "stdout",
          "text": [
            "loading annotations into memory...\n",
            "Done (t=0.00s)\n",
            "creating index...\n",
            "index created!\n",
            "100% 50/50 [00:04<00:00, 10.54it/s, all=41, large=40.3, medium=43.1, small=0, dice_metric_all=tensor(0.5728, dtype=torch.float64), dice_metric_large=tensor(0.5657, dtype=torch.float64), dice_metric_medium=tensor(0.5935, dtype=torch.float64), dice_metric_small=0]\n",
            "all=41.014, large=40.289, medium=43.117, small=0.000, dice_metric_all=0.573, dice_metric_large=0.566, dice_metric_medium=0.594, dice_metric_small=0.000\n"
          ]
        }
      ]
    },
    {
      "cell_type": "markdown",
      "source": [
        "#Evaluation for SAM -Test - Sunflower"
      ],
      "metadata": {
        "id": "_lzok1VeikYJ"
      }
    },
    {
      "cell_type": "code",
      "source": [
        "!python eval_sam_coco.py --model l0 --image_path \"/content/drive/MyDrive/Efficient_ViT_Dataset/SunFlower500-Jesi.v1i.coco-segmentation/test/\" --weight_url \"/content/drive/MyDrive/Efficient_ViT_checkpoints/sam/l0.pt\" --anno_path \"/content/drive/MyDrive/Efficient_ViT_Dataset/SunFlower500-Jesi.v1i.coco-segmentation/test/_annotations.coco.json\""
      ],
      "metadata": {
        "colab": {
          "base_uri": "https://localhost:8080/"
        },
        "id": "ZXW5dE-UijTo",
        "outputId": "317bcefa-d539-4708-b023-381ea1cde566"
      },
      "execution_count": null,
      "outputs": [
        {
          "output_type": "stream",
          "name": "stdout",
          "text": [
            "loading annotations into memory...\n",
            "Done (t=1.97s)\n",
            "creating index...\n",
            "index created!\n",
            "100% 150/150 [01:00<00:00,  2.46it/s, all=42.5, large=42, medium=43.2, small=46.2, dice_metric_all=tensor(0.5831, dtype=torch.float64), dice_metric_large=tensor(0.5777, dtype=torch.float64), dice_metric_medium=tensor(0.5913, dtype=torch.float64), dice_metric_small=tensor(0.6170, dtype=torch.float64)]\n",
            "all=42.488, large=42.005, medium=43.162, small=46.244, dice_metric_all=0.583, dice_metric_large=0.578, dice_metric_medium=0.591, dice_metric_small=0.617\n"
          ]
        }
      ]
    },
    {
      "cell_type": "code",
      "source": [
        "!python eval_sam_coco.py --model l1 --image_path \"/content/drive/MyDrive/Efficient_ViT_Dataset/SunFlower500-Jesi.v1i.coco-segmentation/test/\" --weight_url \"/content/drive/MyDrive/Efficient_ViT_checkpoints/sam/l1.pt\" --anno_path \"/content/drive/MyDrive/Efficient_ViT_Dataset/SunFlower500-Jesi.v1i.coco-segmentation/test/_annotations.coco.json\""
      ],
      "metadata": {
        "colab": {
          "base_uri": "https://localhost:8080/"
        },
        "id": "GcgxWexgi5-0",
        "outputId": "ba9e50eb-8875-4805-82b0-f804fdc31371"
      },
      "execution_count": null,
      "outputs": [
        {
          "output_type": "stream",
          "name": "stdout",
          "text": [
            "loading annotations into memory...\n",
            "Done (t=0.00s)\n",
            "creating index...\n",
            "index created!\n",
            "100% 150/150 [00:12<00:00, 11.83it/s, all=42.4, large=42.3, medium=42.1, small=50.7, dice_metric_all=tensor(0.5818, dtype=torch.float64), dice_metric_large=tensor(0.5798, dtype=torch.float64), dice_metric_medium=tensor(0.5806, dtype=torch.float64), dice_metric_small=tensor(0.6595, dtype=torch.float64)]\n",
            "all=42.377, large=42.256, medium=42.065, small=50.731, dice_metric_all=0.582, dice_metric_large=0.580, dice_metric_medium=0.581, dice_metric_small=0.660\n"
          ]
        }
      ]
    },
    {
      "cell_type": "code",
      "source": [
        "!python eval_sam_coco.py --model l2 --image_path \"/content/drive/MyDrive/Efficient_ViT_Dataset/SunFlower500-Jesi.v1i.coco-segmentation/test/\" --weight_url \"/content/drive/MyDrive/Efficient_ViT_checkpoints/sam/l2.pt\" --anno_path \"/content/drive/MyDrive/Efficient_ViT_Dataset/SunFlower500-Jesi.v1i.coco-segmentation/test/_annotations.coco.json\""
      ],
      "metadata": {
        "colab": {
          "base_uri": "https://localhost:8080/"
        },
        "id": "yyRFmfnZjKyX",
        "outputId": "5fb1d767-caf7-4b26-a5f0-7fd648a7b6e1"
      },
      "execution_count": null,
      "outputs": [
        {
          "output_type": "stream",
          "name": "stdout",
          "text": [
            "loading annotations into memory...\n",
            "Done (t=0.00s)\n",
            "creating index...\n",
            "index created!\n",
            "100% 150/150 [00:13<00:00, 11.19it/s, all=41.4, large=41.1, medium=41.7, small=47.3, dice_metric_all=tensor(0.5724, dtype=torch.float64), dice_metric_large=tensor(0.5683, dtype=torch.float64), dice_metric_medium=tensor(0.5768, dtype=torch.float64), dice_metric_small=tensor(0.6270, dtype=torch.float64)]\n",
            "all=41.444, large=41.128, medium=41.667, small=47.266, dice_metric_all=0.572, dice_metric_large=0.568, dice_metric_medium=0.577, dice_metric_small=0.627\n"
          ]
        }
      ]
    },
    {
      "cell_type": "markdown",
      "source": [
        "#Evaluation for SAM- Train- Sugarbeet\n"
      ],
      "metadata": {
        "id": "aLXYVQ2vkMZR"
      }
    },
    {
      "cell_type": "code",
      "source": [
        "!python eval_sam_coco.py --model l0 --image_path \"/content/drive/MyDrive/Efficient_ViT_Dataset/SugarBeet1600.v1i.coco-segmentation/train/\" --weight_url \"/content/drive/MyDrive/Efficient_ViT_checkpoints/sam/l0.pt\" --anno_path \"/content/drive/MyDrive/Efficient_ViT_Dataset/SugarBeet1600.v1i.coco-segmentation/train/_annotations.coco.json\""
      ],
      "metadata": {
        "colab": {
          "base_uri": "https://localhost:8080/"
        },
        "id": "yqcjFy9HkU6V",
        "outputId": "27b92163-db11-4a3a-ebe2-69d4ed4274e5"
      },
      "execution_count": null,
      "outputs": [
        {
          "output_type": "stream",
          "name": "stdout",
          "text": [
            "loading annotations into memory...\n",
            "Done (t=0.58s)\n",
            "creating index...\n",
            "index created!\n",
            "100% 908/908 [06:21<00:00,  2.38it/s, all=37.3, large=35.6, medium=41.5, small=46.4, dice_metric_all=tensor(0.5323, dtype=torch.float64), dice_metric_large=tensor(0.5152, dtype=torch.float64), dice_metric_medium=tensor(0.5745, dtype=torch.float64), dice_metric_small=tensor(0.6226, dtype=torch.float64)]\n",
            "all=37.318, large=35.621, medium=41.497, small=46.364, dice_metric_all=0.532, dice_metric_large=0.515, dice_metric_medium=0.574, dice_metric_small=0.623\n"
          ]
        }
      ]
    },
    {
      "cell_type": "code",
      "source": [
        "!python eval_sam_coco.py --model l1 --image_path \"/content/drive/MyDrive/Efficient_ViT_Dataset/SugarBeet1600.v1i.coco-segmentation/train/\" --weight_url \"/content/drive/MyDrive/Efficient_ViT_checkpoints/sam/l1.pt\" --anno_path \"/content/drive/MyDrive/Efficient_ViT_Dataset/SugarBeet1600.v1i.coco-segmentation/train/_annotations.coco.json\""
      ],
      "metadata": {
        "colab": {
          "base_uri": "https://localhost:8080/"
        },
        "id": "641_e-DMnudg",
        "outputId": "e55dd510-e470-4b06-c82e-6d4d29fab0bb"
      },
      "execution_count": null,
      "outputs": [
        {
          "output_type": "stream",
          "name": "stdout",
          "text": [
            "loading annotations into memory...\n",
            "Done (t=0.02s)\n",
            "creating index...\n",
            "index created!\n",
            "100% 908/908 [01:19<00:00, 11.46it/s, all=36.9, large=35, medium=41.4, small=45, dice_metric_all=tensor(0.5269, dtype=torch.float64), dice_metric_large=tensor(0.5085, dtype=torch.float64), dice_metric_medium=tensor(0.5730, dtype=torch.float64), dice_metric_small=tensor(0.6083, dtype=torch.float64)]\n",
            "all=36.853, large=35.045, medium=41.358, small=45.043, dice_metric_all=0.527, dice_metric_large=0.509, dice_metric_medium=0.573, dice_metric_small=0.608\n"
          ]
        }
      ]
    },
    {
      "cell_type": "code",
      "source": [
        "!python eval_sam_coco.py --model l2 --image_path \"/content/drive/MyDrive/Efficient_ViT_Dataset/SugarBeet1600.v1i.coco-segmentation/train/\" --weight_url \"/content/drive/MyDrive/Efficient_ViT_checkpoints/sam/l2.pt\" --anno_path \"/content/drive/MyDrive/Efficient_ViT_Dataset/SugarBeet1600.v1i.coco-segmentation/train/_annotations.coco.json\""
      ],
      "metadata": {
        "colab": {
          "base_uri": "https://localhost:8080/"
        },
        "id": "eoFWY6Prnww5",
        "outputId": "4417381a-3757-4922-eddf-73c0d7f1e1b3"
      },
      "execution_count": null,
      "outputs": [
        {
          "output_type": "stream",
          "name": "stdout",
          "text": [
            "loading annotations into memory...\n",
            "Done (t=0.01s)\n",
            "creating index...\n",
            "index created!\n",
            "100% 908/908 [01:24<00:00, 10.70it/s, all=36.2, large=34.2, medium=41.3, small=46.6, dice_metric_all=tensor(0.5205, dtype=torch.float64), dice_metric_large=tensor(0.4993, dtype=torch.float64), dice_metric_medium=tensor(0.5727, dtype=torch.float64), dice_metric_small=tensor(0.6273, dtype=torch.float64)]\n",
            "all=36.213, large=34.151, medium=41.317, small=46.560, dice_metric_all=0.520, dice_metric_large=0.499, dice_metric_medium=0.573, dice_metric_small=0.627\n"
          ]
        }
      ]
    },
    {
      "cell_type": "markdown",
      "source": [
        "#Evaluation for SAM-Valid-Sugarbeet\n"
      ],
      "metadata": {
        "id": "FLC2jg9An7el"
      }
    },
    {
      "cell_type": "code",
      "source": [
        "!python eval_sam_coco.py --model l0 --image_path \"/content/drive/MyDrive/Efficient_ViT_Dataset/SugarBeet1600.v1i.coco-segmentation/valid/\" --weight_url \"/content/drive/MyDrive/Efficient_ViT_checkpoints/sam/l0.pt\" --anno_path \"/content/drive/MyDrive/Efficient_ViT_Dataset/SugarBeet1600.v1i.coco-segmentation/valid/_annotations.coco.json\""
      ],
      "metadata": {
        "colab": {
          "base_uri": "https://localhost:8080/"
        },
        "id": "8pttrcIXoLnS",
        "outputId": "d86654d4-9a89-4386-a2dd-ea047c09a133"
      },
      "execution_count": null,
      "outputs": [
        {
          "output_type": "stream",
          "name": "stdout",
          "text": [
            "loading annotations into memory...\n",
            "Done (t=0.01s)\n",
            "creating index...\n",
            "index created!\n",
            "100% 304/304 [02:01<00:00,  2.50it/s, all=38.4, large=36.6, medium=42.5, small=54.6, dice_metric_all=tensor(0.5432, dtype=torch.float64), dice_metric_large=tensor(0.5253, dtype=torch.float64), dice_metric_medium=tensor(0.5839, dtype=torch.float64), dice_metric_small=tensor(0.7024, dtype=torch.float64)]\n",
            "all=38.438, large=36.643, medium=42.505, small=54.643, dice_metric_all=0.543, dice_metric_large=0.525, dice_metric_medium=0.584, dice_metric_small=0.702\n"
          ]
        }
      ]
    },
    {
      "cell_type": "code",
      "source": [
        "!python eval_sam_coco.py --model l1 --image_path \"/content/drive/MyDrive/Efficient_ViT_Dataset/SugarBeet1600.v1i.coco-segmentation/valid/\" --weight_url \"/content/drive/MyDrive/Efficient_ViT_checkpoints/sam/l1.pt\" --anno_path \"/content/drive/MyDrive/Efficient_ViT_Dataset/SugarBeet1600.v1i.coco-segmentation/valid/_annotations.coco.json\""
      ],
      "metadata": {
        "colab": {
          "base_uri": "https://localhost:8080/"
        },
        "id": "fpkCx4OYoLci",
        "outputId": "d80d690d-1669-4b06-d7a7-35ab625f6267"
      },
      "execution_count": null,
      "outputs": [
        {
          "output_type": "stream",
          "name": "stdout",
          "text": [
            "loading annotations into memory...\n",
            "Done (t=0.01s)\n",
            "creating index...\n",
            "index created!\n",
            "100% 304/304 [00:26<00:00, 11.63it/s, all=38, large=36.2, medium=42.3, small=53.5, dice_metric_all=tensor(0.5389, dtype=torch.float64), dice_metric_large=tensor(0.5201, dtype=torch.float64), dice_metric_medium=tensor(0.5820, dtype=torch.float64), dice_metric_small=tensor(0.6940, dtype=torch.float64)]\n",
            "all=38.037, large=36.188, medium=42.267, small=53.499, dice_metric_all=0.539, dice_metric_large=0.520, dice_metric_medium=0.582, dice_metric_small=0.694\n"
          ]
        }
      ]
    },
    {
      "cell_type": "code",
      "source": [
        "!python eval_sam_coco.py --model l2 --image_path \"/content/drive/MyDrive/Efficient_ViT_Dataset/SugarBeet1600.v1i.coco-segmentation/valid/\" --weight_url \"/content/drive/MyDrive/Efficient_ViT_checkpoints/sam/l2.pt\" --anno_path \"/content/drive/MyDrive/Efficient_ViT_Dataset/SugarBeet1600.v1i.coco-segmentation/valid/_annotations.coco.json\""
      ],
      "metadata": {
        "colab": {
          "base_uri": "https://localhost:8080/"
        },
        "id": "4AxpNuaen6vU",
        "outputId": "91990cb1-6976-4575-9bb0-fd13f23123cf"
      },
      "execution_count": null,
      "outputs": [
        {
          "output_type": "stream",
          "name": "stdout",
          "text": [
            "loading annotations into memory...\n",
            "Done (t=0.01s)\n",
            "creating index...\n",
            "index created!\n",
            "100% 304/304 [00:29<00:00, 10.16it/s, all=37.6, large=35.6, medium=42.1, small=54, dice_metric_all=tensor(0.5344, dtype=torch.float64), dice_metric_large=tensor(0.5144, dtype=torch.float64), dice_metric_medium=tensor(0.5803, dtype=torch.float64), dice_metric_small=tensor(0.6952, dtype=torch.float64)]\n",
            "all=37.557, large=35.572, medium=42.102, small=53.995, dice_metric_all=0.534, dice_metric_large=0.514, dice_metric_medium=0.580, dice_metric_small=0.695\n"
          ]
        }
      ]
    },
    {
      "cell_type": "markdown",
      "source": [
        "#Evaluation for SAM-Test-Sugarbeet"
      ],
      "metadata": {
        "id": "1ASzALoSoTjk"
      }
    },
    {
      "cell_type": "code",
      "source": [
        "!python eval_sam_coco.py --model l0 --image_path \"/content/drive/MyDrive/Efficient_ViT_Dataset/SugarBeet1600.v1i.coco-segmentation/test/\" --weight_url \"/content/drive/MyDrive/Efficient_ViT_checkpoints/sam/l0.pt\" --anno_path \"/content/drive/MyDrive/Efficient_ViT_Dataset/SugarBeet1600.v1i.coco-segmentation/test/_annotations.coco.json\""
      ],
      "metadata": {
        "colab": {
          "base_uri": "https://localhost:8080/"
        },
        "id": "P2P2rgx1oSz8",
        "outputId": "7966af39-d470-4745-f514-9861ca5edbef"
      },
      "execution_count": null,
      "outputs": [
        {
          "output_type": "stream",
          "name": "stdout",
          "text": [
            "loading annotations into memory...\n",
            "Done (t=0.48s)\n",
            "creating index...\n",
            "index created!\n",
            "100% 303/303 [02:08<00:00,  2.36it/s, all=38.7, large=37, medium=41.8, small=54.9, dice_metric_all=tensor(0.5455, dtype=torch.float64), dice_metric_large=tensor(0.5284, dtype=torch.float64), dice_metric_medium=tensor(0.5792, dtype=torch.float64), dice_metric_small=tensor(0.6971, dtype=torch.float64)]\n",
            "all=38.666, large=37.038, medium=41.769, small=54.866, dice_metric_all=0.546, dice_metric_large=0.528, dice_metric_medium=0.579, dice_metric_small=0.697\n"
          ]
        }
      ]
    },
    {
      "cell_type": "code",
      "source": [
        "!python eval_sam_coco.py --model l1 --image_path \"/content/drive/MyDrive/Efficient_ViT_Dataset/SugarBeet1600.v1i.coco-segmentation/test/\" --weight_url \"/content/drive/MyDrive/Efficient_ViT_checkpoints/sam/l1.pt\" --anno_path \"/content/drive/MyDrive/Efficient_ViT_Dataset/SugarBeet1600.v1i.coco-segmentation/test/_annotations.coco.json\""
      ],
      "metadata": {
        "colab": {
          "base_uri": "https://localhost:8080/"
        },
        "id": "Xn2D0DzbogBq",
        "outputId": "6c78854c-ee09-4eea-dec6-19e157752a01"
      },
      "execution_count": null,
      "outputs": [
        {
          "output_type": "stream",
          "name": "stdout",
          "text": [
            "loading annotations into memory...\n",
            "Done (t=0.01s)\n",
            "creating index...\n",
            "index created!\n",
            "100% 303/303 [00:24<00:00, 12.13it/s, all=38.2, large=36.6, medium=41, small=54.9, dice_metric_all=tensor(0.5396, dtype=torch.float64), dice_metric_large=tensor(0.5235, dtype=torch.float64), dice_metric_medium=tensor(0.5705, dtype=torch.float64), dice_metric_small=tensor(0.6966, dtype=torch.float64)]\n",
            "all=38.164, large=36.643, medium=40.966, small=54.927, dice_metric_all=0.540, dice_metric_large=0.523, dice_metric_medium=0.571, dice_metric_small=0.697\n"
          ]
        }
      ]
    },
    {
      "cell_type": "code",
      "source": [
        "!python eval_sam_coco.py --model l2 --image_path \"/content/drive/MyDrive/Efficient_ViT_Dataset/SugarBeet1600.v1i.coco-segmentation/test/\" --weight_url \"/content/drive/MyDrive/Efficient_ViT_checkpoints/sam/l2.pt\" --anno_path \"/content/drive/MyDrive/Efficient_ViT_Dataset/SugarBeet1600.v1i.coco-segmentation/test/_annotations.coco.json\""
      ],
      "metadata": {
        "colab": {
          "base_uri": "https://localhost:8080/"
        },
        "id": "U6KIt-neoinP",
        "outputId": "a7e24fd2-6f29-401f-8319-baf55f6c8dec"
      },
      "execution_count": null,
      "outputs": [
        {
          "output_type": "stream",
          "name": "stdout",
          "text": [
            "loading annotations into memory...\n",
            "Done (t=0.01s)\n",
            "creating index...\n",
            "index created!\n",
            "100% 303/303 [00:27<00:00, 10.91it/s, all=37.8, large=35.9, medium=41.3, small=56, dice_metric_all=tensor(0.5357, dtype=torch.float64), dice_metric_large=tensor(0.5168, dtype=torch.float64), dice_metric_medium=tensor(0.5730, dtype=torch.float64), dice_metric_small=tensor(0.7048, dtype=torch.float64)]\n",
            "all=37.751, large=35.916, medium=41.252, small=55.989, dice_metric_all=0.536, dice_metric_large=0.517, dice_metric_medium=0.573, dice_metric_small=0.705\n"
          ]
        }
      ]
    },
    {
      "cell_type": "markdown",
      "source": [
        "#Training"
      ],
      "metadata": {
        "id": "qUBbpjIi1XuM"
      }
    },
    {
      "cell_type": "code",
      "source": [
        "!python train_cls_model.py configs/cls/imagenet/l1.yaml --fp16 --path \"/content/drive/MyDrive/Efficient_ViT_Dataset/SunFlower500-Jesi.v1i.coco-segmentation/\""
      ],
      "metadata": {
        "colab": {
          "base_uri": "https://localhost:8080/"
        },
        "id": "p2k0afHq1ePu",
        "outputId": "7d02d4ac-27ed-4400-a2a6-bb88daf30431"
      },
      "execution_count": null,
      "outputs": [
        {
          "output_type": "stream",
          "name": "stdout",
          "text": [
            "\u001b[32m[2023-11-23 16:16:28.042]\u001b[0m \u001b[33m\u001b[1mDistributed environment not detected, fall back to default\u001b[0m\n",
            "Traceback (most recent call last):\n",
            "  File \"/content/efficientvit/train_cls_model.py\", line 91, in <module>\n",
            "    main()\n",
            "  File \"/content/efficientvit/train_cls_model.py\", line 53, in main\n",
            "    data_provider = setup.setup_data_provider(config, [ImageNetDataProvider], is_distributed=True)\n",
            "  File \"/content/efficientvit/efficientvit/apps/setup.py\", line 92, in setup_data_provider\n",
            "    data_provider = data_provider_class(**data_provider_kwargs)\n",
            "  File \"/content/efficientvit/efficientvit/clscore/data_provider/imagenet.py\", line 55, in __init__\n",
            "    super().__init__(\n",
            "  File \"/content/efficientvit/efficientvit/apps/data_provider/base.py\", line 84, in __init__\n",
            "    train_dataset, val_dataset, test_dataset = self.build_datasets()\n",
            "  File \"/content/efficientvit/efficientvit/clscore/data_provider/imagenet.py\", line 119, in build_datasets\n",
            "    train_dataset = ImageFolder(os.path.join(self.data_dir, \"train\"), train_transform)\n",
            "  File \"/usr/local/lib/python3.10/dist-packages/torchvision/datasets/folder.py\", line 309, in __init__\n",
            "    super().__init__(\n",
            "  File \"/usr/local/lib/python3.10/dist-packages/torchvision/datasets/folder.py\", line 144, in __init__\n",
            "    classes, class_to_idx = self.find_classes(self.root)\n",
            "  File \"/usr/local/lib/python3.10/dist-packages/torchvision/datasets/folder.py\", line 218, in find_classes\n",
            "    return find_classes(directory)\n",
            "  File \"/usr/local/lib/python3.10/dist-packages/torchvision/datasets/folder.py\", line 40, in find_classes\n",
            "    classes = sorted(entry.name for entry in os.scandir(directory) if entry.is_dir())\n",
            "FileNotFoundError: [Errno 2] No such file or directory: '/dataset/imagenet/train'\n"
          ]
        }
      ]
    }
  ]
}